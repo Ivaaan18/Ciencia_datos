{
 "cells": [
  {
   "cell_type": "markdown",
   "id": "1a75f7e6",
   "metadata": {},
   "source": [
    "# Métricas de clasificación\n",
    "\n",
    "En el último cuaderno ajustamos un clasificador binario para predecir si los pacientes eran diabéticos o no. Usamos la precisión como una medida de qué tan bien se desempeñó el modelo, pero la precisión no lo es todo. En este cuaderno, veremos alternativas a la precisión que pueden ser mucho más útiles en el aprendizaje automático.\n",
    "\n",
    "## Métricas alternativas para clasificadores binarios\n",
    "\n",
    "La precisión parece una métrica sensata para evaluar (y hasta cierto punto lo es), pero debe tener cuidado al sacar demasiadas conclusiones de la precisión de un clasificador. Recuerde que es simplemente una medida de cuántos casos se predijeron correctamente. Supongamos que sólo el 3% de la población es diabética. Podría crear un clasificador que siempre solo prediga 0, y tendría una precisión del 97%, ¡pero no muy útil para identificar a los pacientes con diabetes!\n",
    "\n",
    "Afortunadamente, hay algunas otras métricas que revelan un poco más sobre el rendimiento de nuestro modelo. Scikit-Learn incluye la capacidad de crear un *informe de clasificación* que proporciona más información que la precisión pura por sí sola.\n",
    "\n",
    "Para comenzar, ejecute la siguiente celda para cargar nuestros datos y entrenar nuestro modelo como la última vez."
   ]
  },
  {
   "cell_type": "code",
   "execution_count": 1,
   "id": "ead3b80d",
   "metadata": {},
   "outputs": [
    {
     "name": "stdout",
     "output_type": "stream",
     "text": [
      "\r",
      "  0% [                                                                            ]      0 / 776415\r",
      "  1% [                                                                            ]   8192 / 776415\r",
      "  2% [.                                                                           ]  16384 / 776415\r",
      "  3% [..                                                                          ]  24576 / 776415\r",
      "  4% [...                                                                         ]  32768 / 776415\r",
      "  5% [....                                                                        ]  40960 / 776415\r",
      "  6% [....                                                                        ]  49152 / 776415\r",
      "  7% [.....                                                                       ]  57344 / 776415\r",
      "  8% [......                                                                      ]  65536 / 776415\r",
      "  9% [.......                                                                     ]  73728 / 776415\r",
      " 10% [........                                                                    ]  81920 / 776415\r",
      " 11% [........                                                                    ]  90112 / 776415\r",
      " 12% [.........                                                                   ]  98304 / 776415\r",
      " 13% [..........                                                                  ] 106496 / 776415\r",
      " 14% [...........                                                                 ] 114688 / 776415\r",
      " 15% [............                                                                ] 122880 / 776415\r",
      " 16% [............                                                                ] 131072 / 776415\r",
      " 17% [.............                                                               ] 139264 / 776415\r",
      " 18% [..............                                                              ] 147456 / 776415\r",
      " 20% [...............                                                             ] 155648 / 776415\r",
      " 21% [................                                                            ] 163840 / 776415\r",
      " 22% [................                                                            ] 172032 / 776415\r",
      " 23% [.................                                                           ] 180224 / 776415\r",
      " 24% [..................                                                          ] 188416 / 776415\r",
      " 25% [...................                                                         ] 196608 / 776415\r",
      " 26% [....................                                                        ] 204800 / 776415\r",
      " 27% [....................                                                        ] 212992 / 776415\r",
      " 28% [.....................                                                       ] 221184 / 776415\r",
      " 29% [......................                                                      ] 229376 / 776415\r",
      " 30% [.......................                                                     ] 237568 / 776415\r",
      " 31% [........................                                                    ] 245760 / 776415\r",
      " 32% [........................                                                    ] 253952 / 776415\r",
      " 33% [.........................                                                   ] 262144 / 776415\r",
      " 34% [..........................                                                  ] 270336 / 776415\r",
      " 35% [...........................                                                 ] 278528 / 776415\r",
      " 36% [............................                                                ] 286720 / 776415\r",
      " 37% [............................                                                ] 294912 / 776415\r",
      " 39% [.............................                                               ] 303104 / 776415\r",
      " 40% [..............................                                              ] 311296 / 776415\r",
      " 41% [...............................                                             ] 319488 / 776415\r",
      " 42% [................................                                            ] 327680 / 776415\r",
      " 43% [................................                                            ] 335872 / 776415\r",
      " 44% [.................................                                           ] 344064 / 776415\r",
      " 45% [..................................                                          ] 352256 / 776415\r",
      " 46% [...................................                                         ] 360448 / 776415\r",
      " 47% [....................................                                        ] 368640 / 776415\r",
      " 48% [....................................                                        ] 376832 / 776415\r",
      " 49% [.....................................                                       ] 385024 / 776415\r",
      " 50% [......................................                                      ] 393216 / 776415\r",
      " 51% [.......................................                                     ] 401408 / 776415\r",
      " 52% [........................................                                    ] 409600 / 776415\r",
      " 53% [........................................                                    ] 417792 / 776415\r",
      " 54% [.........................................                                   ] 425984 / 776415\r",
      " 55% [..........................................                                  ] 434176 / 776415\r",
      " 56% [...........................................                                 ] 442368 / 776415\r",
      " 58% [............................................                                ] 450560 / 776415\r",
      " 59% [............................................                                ] 458752 / 776415\r",
      " 60% [.............................................                               ] 466944 / 776415\r",
      " 61% [..............................................                              ] 475136 / 776415\r",
      " 62% [...............................................                             ] 483328 / 776415\r",
      " 63% [................................................                            ] 491520 / 776415\r",
      " 64% [................................................                            ] 499712 / 776415\r",
      " 65% [.................................................                           ] 507904 / 776415\r",
      " 66% [..................................................                          ] 516096 / 776415\r",
      " 67% [...................................................                         ] 524288 / 776415\r",
      " 68% [....................................................                        ] 532480 / 776415\r",
      " 69% [....................................................                        ] 540672 / 776415\r",
      " 70% [.....................................................                       ] 548864 / 776415\r",
      " 71% [......................................................                      ] 557056 / 776415\r",
      " 72% [.......................................................                     ] 565248 / 776415\r",
      " 73% [........................................................                    ] 573440 / 776415\r",
      " 74% [........................................................                    ] 581632 / 776415\r",
      " 75% [.........................................................                   ] 589824 / 776415\r",
      " 77% [..........................................................                  ] 598016 / 776415\r",
      " 78% [...........................................................                 ] 606208 / 776415\r",
      " 79% [............................................................                ] 614400 / 776415\r",
      " 80% [............................................................                ] 622592 / 776415\r",
      " 81% [.............................................................               ] 630784 / 776415\r",
      " 82% [..............................................................              ] 638976 / 776415\r",
      " 83% [...............................................................             ] 647168 / 776415\r",
      " 84% [................................................................            ] 655360 / 776415\r",
      " 85% [................................................................            ] 663552 / 776415\r",
      " 86% [.................................................................           ] 671744 / 776415\r",
      " 87% [..................................................................          ] 679936 / 776415\r",
      " 88% [...................................................................         ] 688128 / 776415\r",
      " 89% [....................................................................        ] 696320 / 776415\r",
      " 90% [....................................................................        ] 704512 / 776415\r",
      " 91% [.....................................................................       ] 712704 / 776415\r",
      " 92% [......................................................................      ] 720896 / 776415\r",
      " 93% [.......................................................................     ] 729088 / 776415\r",
      " 94% [........................................................................    ] 737280 / 776415\r",
      " 96% [........................................................................    ] 745472 / 776415\r",
      " 97% [.........................................................................   ] 753664 / 776415\r",
      " 98% [..........................................................................  ] 761856 / 776415\r",
      " 99% [........................................................................... ] 770048 / 776415"
     ]
    },
    {
     "name": "stdout",
     "output_type": "stream",
     "text": [
      "\r",
      "100% [............................................................................] 776415 / 776415"
     ]
    },
    {
     "data": {
      "text/html": [
       "<div>\n",
       "<style scoped>\n",
       "    .dataframe tbody tr th:only-of-type {\n",
       "        vertical-align: middle;\n",
       "    }\n",
       "\n",
       "    .dataframe tbody tr th {\n",
       "        vertical-align: top;\n",
       "    }\n",
       "\n",
       "    .dataframe thead th {\n",
       "        text-align: right;\n",
       "    }\n",
       "</style>\n",
       "<table border=\"1\" class=\"dataframe\">\n",
       "  <thead>\n",
       "    <tr style=\"text-align: right;\">\n",
       "      <th></th>\n",
       "      <th>PatientID</th>\n",
       "      <th>Pregnancies</th>\n",
       "      <th>PlasmaGlucose</th>\n",
       "      <th>DiastolicBloodPressure</th>\n",
       "      <th>TricepsThickness</th>\n",
       "      <th>SerumInsulin</th>\n",
       "      <th>BMI</th>\n",
       "      <th>DiabetesPedigree</th>\n",
       "      <th>Age</th>\n",
       "      <th>Diabetic</th>\n",
       "    </tr>\n",
       "  </thead>\n",
       "  <tbody>\n",
       "    <tr>\n",
       "      <th>0</th>\n",
       "      <td>1354778</td>\n",
       "      <td>0</td>\n",
       "      <td>171</td>\n",
       "      <td>80</td>\n",
       "      <td>34</td>\n",
       "      <td>23</td>\n",
       "      <td>43.509726</td>\n",
       "      <td>1.213191</td>\n",
       "      <td>21</td>\n",
       "      <td>0</td>\n",
       "    </tr>\n",
       "    <tr>\n",
       "      <th>1</th>\n",
       "      <td>1147438</td>\n",
       "      <td>8</td>\n",
       "      <td>92</td>\n",
       "      <td>93</td>\n",
       "      <td>47</td>\n",
       "      <td>36</td>\n",
       "      <td>21.240576</td>\n",
       "      <td>0.158365</td>\n",
       "      <td>23</td>\n",
       "      <td>0</td>\n",
       "    </tr>\n",
       "    <tr>\n",
       "      <th>2</th>\n",
       "      <td>1640031</td>\n",
       "      <td>7</td>\n",
       "      <td>115</td>\n",
       "      <td>47</td>\n",
       "      <td>52</td>\n",
       "      <td>35</td>\n",
       "      <td>41.511523</td>\n",
       "      <td>0.079019</td>\n",
       "      <td>23</td>\n",
       "      <td>0</td>\n",
       "    </tr>\n",
       "    <tr>\n",
       "      <th>3</th>\n",
       "      <td>1883350</td>\n",
       "      <td>9</td>\n",
       "      <td>103</td>\n",
       "      <td>78</td>\n",
       "      <td>25</td>\n",
       "      <td>304</td>\n",
       "      <td>29.582192</td>\n",
       "      <td>1.282870</td>\n",
       "      <td>43</td>\n",
       "      <td>1</td>\n",
       "    </tr>\n",
       "    <tr>\n",
       "      <th>4</th>\n",
       "      <td>1424119</td>\n",
       "      <td>1</td>\n",
       "      <td>85</td>\n",
       "      <td>59</td>\n",
       "      <td>27</td>\n",
       "      <td>35</td>\n",
       "      <td>42.604536</td>\n",
       "      <td>0.549542</td>\n",
       "      <td>22</td>\n",
       "      <td>0</td>\n",
       "    </tr>\n",
       "  </tbody>\n",
       "</table>\n",
       "</div>"
      ],
      "text/plain": [
       "   PatientID  Pregnancies  PlasmaGlucose  DiastolicBloodPressure  \\\n",
       "0    1354778            0            171                      80   \n",
       "1    1147438            8             92                      93   \n",
       "2    1640031            7            115                      47   \n",
       "3    1883350            9            103                      78   \n",
       "4    1424119            1             85                      59   \n",
       "\n",
       "   TricepsThickness  SerumInsulin        BMI  DiabetesPedigree  Age  Diabetic  \n",
       "0                34            23  43.509726          1.213191   21         0  \n",
       "1                47            36  21.240576          0.158365   23         0  \n",
       "2                52            35  41.511523          0.079019   23         0  \n",
       "3                25           304  29.582192          1.282870   43         1  \n",
       "4                27            35  42.604536          0.549542   22         0  "
      ]
     },
     "execution_count": 1,
     "metadata": {},
     "output_type": "execute_result"
    }
   ],
   "source": [
    "import pandas as pd\n",
    "import wget\n",
    "\n",
    "# load the training dataset\n",
    "wget.download('https://raw.githubusercontent.com/MicrosoftDocs/mslearn-introduction-to-machine-learning/main/Data/ml-basics/diabetes.csv')\n",
    "diabetes = pd.read_csv('diabetes.csv')\n",
    "diabetes.head()"
   ]
  },
  {
   "cell_type": "code",
   "execution_count": 2,
   "id": "5ee5e3ff",
   "metadata": {},
   "outputs": [
    {
     "name": "stdout",
     "output_type": "stream",
     "text": [
      "Training cases: 10500\n",
      "Test cases: 4500\n",
      "Predicted labels:  [0 0 0 ... 0 1 0]\n",
      "Actual labels:     [0 0 1 ... 1 1 1]\n",
      "Accuracy:  0.7891111111111111\n"
     ]
    }
   ],
   "source": [
    "import pandas as pd\n",
    "from matplotlib import pyplot as plt\n",
    "%matplotlib inline\n",
    "from sklearn.model_selection import train_test_split\n",
    "from sklearn.metrics import accuracy_score\n",
    "\n",
    "# Separate features and labels\n",
    "features = ['Pregnancies','PlasmaGlucose','DiastolicBloodPressure','TricepsThickness','SerumInsulin','BMI','DiabetesPedigree','Age']\n",
    "label = 'Diabetic'\n",
    "X, y = diabetes[features].values, diabetes[label].values\n",
    "\n",
    "\n",
    "# Split data 70%-30% into training set and test set\n",
    "X_train, X_test, y_train, y_test = train_test_split(X, y, test_size=0.30, random_state=0)\n",
    "\n",
    "print ('Training cases: %d\\nTest cases: %d' % (X_train.shape[0], X_test.shape[0]))\n",
    "\n",
    "# Train the model\n",
    "from sklearn.linear_model import LogisticRegression\n",
    "\n",
    "# Set regularization rate\n",
    "reg = 0.01\n",
    "\n",
    "# train a logistic regression model on the training set\n",
    "model = LogisticRegression(C=1/reg, solver=\"liblinear\").fit(X_train, y_train)\n",
    "\n",
    "predictions = model.predict(X_test)\n",
    "print('Predicted labels: ', predictions)\n",
    "print('Actual labels:    ' ,y_test)\n",
    "\n",
    "\n",
    "print('Accuracy: ', accuracy_score(y_test, predictions))"
   ]
  },
  {
   "cell_type": "markdown",
   "id": "302bc992",
   "metadata": {},
   "source": [
    "Uno de los lugares más simples para comenzar es un informe de clasificación. Ejecute la siguiente celda para ver una variedad de formas alternativas de evaluar nuestro modelo"
   ]
  },
  {
   "cell_type": "code",
   "execution_count": 3,
   "id": "db81a4b6",
   "metadata": {},
   "outputs": [
    {
     "name": "stdout",
     "output_type": "stream",
     "text": [
      "              precision    recall  f1-score   support\n",
      "\n",
      "           0       0.81      0.88      0.85      2986\n",
      "           1       0.72      0.60      0.66      1514\n",
      "\n",
      "    accuracy                           0.79      4500\n",
      "   macro avg       0.77      0.74      0.75      4500\n",
      "weighted avg       0.78      0.79      0.78      4500\n",
      "\n"
     ]
    }
   ],
   "source": [
    "from sklearn. metrics import classification_report\n",
    "\n",
    "print(classification_report(y_test, predictions))"
   ]
  },
  {
   "cell_type": "markdown",
   "id": "09988aed",
   "metadata": {},
   "source": [
    "El informe de clasificación incluye las siguientes métricas para cada clase (0 y 1)\n",
    "\n",
    "> tenga en cuenta que es posible que la fila del encabezado no coincida con los valores.\n",
    "\n",
    "* *Precisión*: De las predicciones que hizo el modelo para esta clase, ¿qué proporción fueron correctas?\n",
    "* *Recuerde*: De todas las instancias de esta clase en el conjunto de datos de prueba, ¿cuántas identificó el modelo?\n",
    "* *F1-Score*: una métrica promedio que tiene en cuenta tanto la precisión como la recuperación.\n",
    "* *Soporte*: ¿Cuántas instancias de esta clase hay en el conjunto de datos de prueba?\n",
    "\n",
    "El informe de clasificación también incluye promedios para estas métricas, incluido un promedio ponderado que permite el desequilibrio en la cantidad de casos de cada clase.\n",
    "\n",
    "Debido a que este es un problema de clasificación *binario*, la clase ***1*** se considera *positiva* y su precisión y recuperación son particularmente interesantes; en efecto, responden las preguntas:\n",
    "\n",
    "- De todos los pacientes que el modelo predijo que son diabéticos, ¿cuántos son realmente diabéticos?\n",
    "- De todos los pacientes que en realidad son diabéticos, ¿cuántos identificó el modelo?\n",
    "\n",
    "Puede recuperar estos valores por sí solos usando las métricas **precision_score** y **recall_score** en scikit-learn (que por defecto asumen un modelo de clasificación binaria)."
   ]
  },
  {
   "cell_type": "code",
   "execution_count": 5,
   "id": "8948f45f",
   "metadata": {},
   "outputs": [
    {
     "name": "stdout",
     "output_type": "stream",
     "text": [
      "Overall Precision: 0.723673792557403\n",
      "Overall Recall: 0.6036988110964333\n"
     ]
    }
   ],
   "source": [
    "from sklearn.metrics import precision_score, recall_score\n",
    "\n",
    "print(\"Overall Precision:\",precision_score(y_test, predictions))\n",
    "print(\"Overall Recall:\",recall_score(y_test, predictions))"
   ]
  },
  {
   "cell_type": "markdown",
   "id": "80ae2106",
   "metadata": {},
   "source": [
    "Las métricas de precisión y recuperación se derivan de cuatro posibles resultados de predicción:\n",
    "* *Verdaderos positivos*: la etiqueta pronosticada y la etiqueta real son ambas 1.\n",
    "* *Falsos positivos*: la etiqueta predicha es 1, pero la etiqueta real es 0.\n",
    "* *Falsos negativos*: la etiqueta predicha es 0, pero la etiqueta real es 1.\n",
    "* *Negativos verdaderos*: la etiqueta pronosticada y la etiqueta real son ambas 0.\n",
    "\n",
    "Estas métricas generalmente se tabulan para el conjunto de prueba y se muestran juntas como una *matriz de confusión*, que toma la siguiente forma:\n",
    "\n",
    "<table style=\"border: 1px negro sólido;\">\n",
    "    <tr style=\"border: 1px negro sólido;\">\n",
    "        <td style=\"borde: 1px negro sólido; color: negro;\" bgcolor=\"lightgray\">TN</td><td style=\"borde: 1px negro sólido; color: negro;\" bgcolor=\"blanco\">FP</td>\n",
    "    </tr>\n",
    "    <tr style=\"border: 1px negro sólido;\">\n",
    "        <td style=\"borde: 1px negro sólido; color: negro;\" bgcolor=\"blanco\">FN</td><td style=\"borde: 1px negro sólido; color: negro;\" bgcolor=\"gris claro\">TP</td>\n",
    "    </tr>\n",
    "</tabla>\n",
    "\n",
    "Tenga en cuenta que las predicciones correctas (*verdaderas*) forman una línea diagonal desde la parte superior izquierda hasta la parte inferior derecha; estas cifras deberían ser significativamente más altas que las predicciones *falsas* si el modelo es bueno.\n",
    "\n",
    "En Python, puede usar la función **sklearn.metrics.confusion_matrix** para encontrar estos valores para un clasificador entrenado:"
   ]
  },
  {
   "cell_type": "code",
   "execution_count": 7,
   "id": "b41dc640",
   "metadata": {},
   "outputs": [
    {
     "name": "stdout",
     "output_type": "stream",
     "text": [
      "[[2637  349]\n",
      " [ 600  914]]\n"
     ]
    }
   ],
   "source": [
    "from sklearn.metrics import confusion_matrix\n",
    "\n",
    "# Print the confusion matrix\n",
    "cm = confusion_matrix(y_test, predictions)\n",
    "print (cm)"
   ]
  },
  {
   "cell_type": "markdown",
   "id": "6c8696b5",
   "metadata": {},
   "source": [
    "Hasta ahora, hemos considerado las predicciones del modelo como etiquetas de clase 1 o 0. En realidad, las cosas son un poco más complejas que eso. Los algoritmos de aprendizaje automático estadístico, como la regresión logística, se basan en la *probabilidad*; entonces, lo que realmente predice un clasificador binario es la probabilidad de que la etiqueta sea verdadera (**P(y)**) y la probabilidad de que la etiqueta sea falsa (1 - **P(y)**). Se utiliza un valor de umbral de 0,5 para decidir si la etiqueta predicha es un 1 (*P(y) > 0,5*) o un 0 (*P(y) <= 0,5*). Puedes usar el método **predict_proba** para ver los pares de probabilidad para cada caso:"
   ]
  },
  {
   "cell_type": "code",
   "execution_count": 9,
   "id": "0a2f5e85",
   "metadata": {},
   "outputs": [
    {
     "name": "stdout",
     "output_type": "stream",
     "text": [
      "[[0.81691654 0.18308346]\n",
      " [0.96319867 0.03680133]\n",
      " [0.80878349 0.19121651]\n",
      " ...\n",
      " [0.60498669 0.39501331]\n",
      " [0.10601324 0.89398676]\n",
      " [0.63803401 0.36196599]]\n"
     ]
    }
   ],
   "source": [
    "y_scores = model.predict_proba(X_test)\n",
    "print(y_scores)"
   ]
  },
  {
   "cell_type": "markdown",
   "id": "759f7881",
   "metadata": {},
   "source": [
    "La decisión de puntuar una predicción como 1 o 0 depende del umbral con el que se comparan las probabilidades pronosticadas. Si tuviéramos que cambiar el umbral, afectaría las predicciones; y por lo tanto cambiar las métricas en la matriz de confusión. Una forma común de evaluar un clasificador es examinar la tasa de verdaderos positivos (que es otro nombre para recordar) y la tasa de falsos positivos para un rango de umbrales posibles. Luego, estas tasas se trazan contra todos los umbrales posibles para formar un gráfico conocido como gráfico de características del operador recibido (ROC), como este:"
   ]
  },
  {
   "cell_type": "code",
   "execution_count": 10,
   "id": "d04f0c76",
   "metadata": {},
   "outputs": [
    {
     "data": {
      "image/png": "[encoded data removed]",
      "text/plain": [
       "<Figure size 432x432 with 1 Axes>"
      ]
     },
     "metadata": {
      "needs_background": "light"
     },
     "output_type": "display_data"
    }
   ],
   "source": [
    "from sklearn.metrics import roc_curve\n",
    "from sklearn.metrics import confusion_matrix\n",
    "import matplotlib\n",
    "import matplotlib.pyplot as plt\n",
    "%matplotlib inline\n",
    "\n",
    "# calculate ROC curve\n",
    "fpr, tpr, thresholds = roc_curve(y_test, y_scores[:,1])\n",
    "\n",
    "# plot ROC curve\n",
    "fig = plt.figure(figsize=(6, 6))\n",
    "# Plot the diagonal 50% line\n",
    "plt.plot([0, 1], [0, 1], 'k--')\n",
    "# Plot the FPR and TPR achieved by our model\n",
    "plt.plot(fpr, tpr)\n",
    "plt.xlabel('False Positive Rate')\n",
    "plt.ylabel('True Positive Rate')\n",
    "plt.title('ROC Curve')\n",
    "plt.show()"
   ]
  },
  {
   "cell_type": "markdown",
   "id": "16123936",
   "metadata": {},
   "source": [
    "El gráfico ROC muestra la curva de las tasas de verdaderos y falsos positivos para diferentes valores de umbral entre 0 y 1. Un clasificador perfecto tendría una curva que sube directamente por el lado izquierdo y cruza directamente la parte superior. La línea diagonal que atraviesa el gráfico representa la probabilidad de predecir correctamente con una predicción aleatoria 50/50; por lo que obviamente desea que la curva sea más alta que eso (¡o su modelo no es mejor que simplemente adivinar!).\n",
    "\n",
    "El área bajo la curva (AUC) es un valor entre 0 y 1 que cuantifica el rendimiento general del modelo. Cuanto más cerca de 1 sea este valor, mejor será el modelo. Una vez más, scikit-Learn incluye una función para calcular esta métrica."
   ]
  },
  {
   "cell_type": "code",
   "execution_count": 11,
   "id": "2a897f57",
   "metadata": {},
   "outputs": [
    {
     "name": "stdout",
     "output_type": "stream",
     "text": [
      "AUC: 0.8568358637091986\n"
     ]
    }
   ],
   "source": [
    "from sklearn.metrics import roc_auc_score\n",
    "\n",
    "auc = roc_auc_score(y_test,y_scores[:,1])\n",
    "print('AUC: ' + str(auc))"
   ]
  },
  {
   "cell_type": "markdown",
   "id": "85decd79",
   "metadata": {},
   "source": [
    "### Perform preprocessing in a pipeline\n",
    "\n",
    "In this case, the ROC curve and its AUC indicate that the model performs better than a random guess which is not bad considering we performed very little preprocessing of the data.\n",
    "\n",
    "In practice, it's common to perform some preprocessing of the data to make it easier for the algorithm to fit a model to it. There's a huge range of preprocessing transformations you can perform to get your data ready for modeling, but we'll limit ourselves to a few common techniques:\n",
    "\n",
    "- Scaling numeric features so they're on the same scale. This prevents features with large values from producing coefficients that disproportionately affect the predictions.\n",
    "- Encoding categorical variables. For example, by using a *one hot encoding* technique you can create individual binary (true/false) features for each possible category value.\n",
    "\n",
    "To apply these preprocessing transformations, we'll make use of a Scikit-Learn feature named *pipelines*. These enable us to define a set of preprocessing steps that end with an algorithm. You can then fit the entire pipeline to the data, so that the model encapsulates all of the preprocessing steps as well as the regression algorithm. This is useful, because when we want to use the model to predict values from new data, we need to apply the same transformations (based on the same statistical distributions and category encodings used with the training data).\n",
    "\n",
    ">**Note**: The term *pipeline* is used extensively in machine learning, often to mean very different things! In this context, we're using it to refer to pipeline objects in Scikit-Learn, but you may see it used elsewhere to mean something else.\n"
   ]
  },
  {
   "cell_type": "code",
   "execution_count": 12,
   "id": "5cbdf3c0",
   "metadata": {},
   "outputs": [
    {
     "name": "stdout",
     "output_type": "stream",
     "text": [
      "Pipeline(steps=[('preprocessor',\n",
      "                 ColumnTransformer(transformers=[('num',\n",
      "                                                  Pipeline(steps=[('scaler',\n",
      "                                                                   StandardScaler())]),\n",
      "                                                  [0, 1, 2, 3, 4, 5, 6]),\n",
      "                                                 ('cat',\n",
      "                                                  Pipeline(steps=[('onehot',\n",
      "                                                                   OneHotEncoder(handle_unknown='ignore'))]),\n",
      "                                                  [7])])),\n",
      "                ('logregressor',\n",
      "                 LogisticRegression(C=100.0, solver='liblinear'))])\n"
     ]
    }
   ],
   "source": [
    "# Train the model\n",
    "from sklearn.compose import ColumnTransformer\n",
    "from sklearn.pipeline import Pipeline\n",
    "from sklearn.preprocessing import StandardScaler, OneHotEncoder\n",
    "from sklearn.linear_model import LogisticRegression\n",
    "import numpy as np\n",
    "\n",
    "# Define preprocessing for numeric columns (normalize them so they're on the same scale)\n",
    "numeric_features = [0,1,2,3,4,5,6]\n",
    "numeric_transformer = Pipeline(steps=[\n",
    "    ('scaler', StandardScaler())])\n",
    "\n",
    "# Define preprocessing for categorical features (encode the Age column)\n",
    "categorical_features = [7]\n",
    "categorical_transformer = Pipeline(steps=[\n",
    "    ('onehot', OneHotEncoder(handle_unknown='ignore'))])\n",
    "\n",
    "# Combine preprocessing steps\n",
    "preprocessor = ColumnTransformer(\n",
    "    transformers=[\n",
    "        ('num', numeric_transformer, numeric_features),\n",
    "        ('cat', categorical_transformer, categorical_features)])\n",
    "\n",
    "# Create preprocessing and training pipeline\n",
    "pipeline = Pipeline(steps=[('preprocessor', preprocessor),\n",
    "                           ('logregressor', LogisticRegression(C=1/reg, solver=\"liblinear\"))])\n",
    "\n",
    "\n",
    "# fit the pipeline to train a logistic regression model on the training set\n",
    "model = pipeline.fit(X_train, (y_train))\n",
    "print (model)"
   ]
  },
  {
   "cell_type": "markdown",
   "id": "2f4c14fe",
   "metadata": {},
   "source": [
    "La canalización encapsula los pasos de preprocesamiento, así como el entrenamiento del modelo.\n",
    "\n",
    "Usemos el modelo entrenado por esta canalización para predecir etiquetas para nuestro conjunto de prueba y comparemos las métricas de rendimiento con el modelo básico que creamos anteriormente."
   ]
  },
  {
   "cell_type": "code",
   "execution_count": 14,
   "id": "e206ae2d",
   "metadata": {},
   "outputs": [
    {
     "name": "stdout",
     "output_type": "stream",
     "text": [
      "Confusion Matrix:\n",
      " [[2667  319]\n",
      " [ 406 1108]] \n",
      "\n",
      "Accuracy: 0.8388888888888889\n",
      "Overall Precision: 0.7764540995094604\n",
      "Overall Recall: 0.7318361955085865\n",
      "AUC: 0.9202436115345854\n"
     ]
    },
    {
     "data": {
      "image/png": "[encoded data removed]",
      "text/plain": [
       "<Figure size 432x432 with 1 Axes>"
      ]
     },
     "metadata": {
      "needs_background": "light"
     },
     "output_type": "display_data"
    }
   ],
   "source": [
    "# Get predictions from test data\n",
    "predictions = model.predict(X_test)\n",
    "y_scores = model.predict_proba(X_test)\n",
    "\n",
    "# Get evaluation metrics\n",
    "cm = confusion_matrix(y_test, predictions)\n",
    "print ('Confusion Matrix:\\n',cm, '\\n')\n",
    "print('Accuracy:', accuracy_score(y_test, predictions))\n",
    "print(\"Overall Precision:\",precision_score(y_test, predictions))\n",
    "print(\"Overall Recall:\",recall_score(y_test, predictions))\n",
    "auc = roc_auc_score(y_test,y_scores[:,1])\n",
    "print('AUC: ' + str(auc))\n",
    "\n",
    "# calculate ROC curve\n",
    "fpr, tpr, thresholds = roc_curve(y_test, y_scores[:,1])\n",
    "\n",
    "# plot ROC curve\n",
    "fig = plt.figure(figsize=(6, 6))\n",
    "# Plot the diagonal 50% line\n",
    "plt.plot([0, 1], [0, 1], 'k--')\n",
    "# Plot the FPR and TPR achieved by our model\n",
    "plt.plot(fpr, tpr)\n",
    "plt.xlabel('False Positive Rate')\n",
    "plt.ylabel('True Positive Rate')\n",
    "plt.title('ROC Curve')\n",
    "plt.show()\n",
    "\n"
   ]
  },
  {
   "cell_type": "markdown",
   "id": "ac175e9c",
   "metadata": {},
   "source": [
    "Los resultados se ven un poco mejores, por lo que claramente el preprocesamiento de los datos ha marcado la diferencia.\n",
    "\n",
    "### Pruebe con un algoritmo diferente\n",
    "\n",
    "Ahora probemos con un algoritmo diferente. Anteriormente usamos un algoritmo de regresión logística, que es un algoritmo *lineal*. Hay muchos tipos de algoritmos de clasificación que podríamos probar, entre ellos:\n",
    "\n",
    "- **Algoritmos de Máquina de Vectores de Soporte**: Algoritmos que definen un *hiperplano* que separa clases.\n",
    "- **Algoritmos basados en árboles**: algoritmos que construyen un árbol de decisión para llegar a una predicción\n",
    "- **Algoritmos de conjunto**: algoritmos que combinan los resultados de varios algoritmos básicos para mejorar la generalización.\n",
    "\n",
    "Esta vez, usaremos los mismos pasos de preprocesamiento que antes, pero entrenaremos el modelo usando un algoritmo *ensamble* llamado *Random Forest* que combina los resultados de múltiples árboles de decisión aleatorios (para obtener más detalles, consulte [Scikit -Documentación de aprendizaje](https://scikit-learn.org/stable/modules/ensemble.html#forests-of-randomized-trees))."
   ]
  },
  {
   "cell_type": "code",
   "execution_count": 15,
   "id": "0f435f51",
   "metadata": {},
   "outputs": [
    {
     "name": "stdout",
     "output_type": "stream",
     "text": [
      "Pipeline(steps=[('preprocessor',\n",
      "                 ColumnTransformer(transformers=[('num',\n",
      "                                                  Pipeline(steps=[('scaler',\n",
      "                                                                   StandardScaler())]),\n",
      "                                                  [0, 1, 2, 3, 4, 5, 6]),\n",
      "                                                 ('cat',\n",
      "                                                  Pipeline(steps=[('onehot',\n",
      "                                                                   OneHotEncoder(handle_unknown='ignore'))]),\n",
      "                                                  [7])])),\n",
      "                ('logregressor', RandomForestClassifier())])\n"
     ]
    }
   ],
   "source": [
    "from sklearn.ensemble import RandomForestClassifier\n",
    "\n",
    "# Create preprocessing and training pipeline\n",
    "pipeline = Pipeline(steps=[('preprocessor', preprocessor),\n",
    "                           ('logregressor', RandomForestClassifier(n_estimators=100))])\n",
    "\n",
    "# fit the pipeline to train a random forest model on the training set\n",
    "model = pipeline.fit(X_train, (y_train))\n",
    "print (model)"
   ]
  },
  {
   "cell_type": "code",
   "execution_count": 16,
   "id": "741a2f7f",
   "metadata": {},
   "outputs": [
    {
     "name": "stdout",
     "output_type": "stream",
     "text": [
      "Confusion Matrix:\n",
      " [[2857  129]\n",
      " [ 186 1328]] \n",
      "\n",
      "Accuracy: 0.93\n",
      "Overall Precision: 0.911461908030199\n",
      "Overall Recall: 0.8771466314398944\n",
      "\n",
      "AUC: 0.9829185251119048\n"
     ]
    },
    {
     "data": {
      "image/png": "[encoded data removed]",
      "text/plain": [
       "<Figure size 432x432 with 1 Axes>"
      ]
     },
     "metadata": {
      "needs_background": "light"
     },
     "output_type": "display_data"
    }
   ],
   "source": [
    "predictions = model.predict(X_test)\n",
    "y_scores = model.predict_proba(X_test)\n",
    "cm = confusion_matrix(y_test, predictions)\n",
    "print ('Confusion Matrix:\\n',cm, '\\n')\n",
    "print('Accuracy:', accuracy_score(y_test, predictions))\n",
    "print(\"Overall Precision:\",precision_score(y_test, predictions))\n",
    "print(\"Overall Recall:\",recall_score(y_test, predictions))\n",
    "auc = roc_auc_score(y_test,y_scores[:,1])\n",
    "print('\\nAUC: ' + str(auc))\n",
    "\n",
    "# calculate ROC curve\n",
    "fpr, tpr, thresholds = roc_curve(y_test, y_scores[:,1])\n",
    "\n",
    "# plot ROC curve\n",
    "fig = plt.figure(figsize=(6, 6))\n",
    "# Plot the diagonal 50% line\n",
    "plt.plot([0, 1], [0, 1], 'k--')\n",
    "# Plot the FPR and TPR achieved by our model\n",
    "plt.plot(fpr, tpr)\n",
    "plt.xlabel('False Positive Rate')\n",
    "plt.ylabel('True Positive Rate')\n",
    "plt.title('ROC Curve')\n",
    "plt.show()"
   ]
  },
  {
   "cell_type": "code",
   "execution_count": 18,
   "id": "e0d83fe0",
   "metadata": {},
   "outputs": [
    {
     "data": {
      "text/plain": [
       "['./diabetes_model.pkl']"
      ]
     },
     "execution_count": 18,
     "metadata": {},
     "output_type": "execute_result"
    }
   ],
   "source": [
    "import joblib\n",
    "\n",
    "# Save the model as a pickle file\n",
    "filename = './diabetes_model.pkl'\n",
    "joblib.dump(model, filename)"
   ]
  },
  {
   "cell_type": "markdown",
   "id": "f2010ea2",
   "metadata": {},
   "source": [
    "Cuando tenemos algunas observaciones nuevas para las que se desconoce la etiqueta, podemos cargar el modelo y usarlo para predecir valores para la etiqueta desconocida:"
   ]
  },
  {
   "cell_type": "code",
   "execution_count": 19,
   "id": "abfe9ae2",
   "metadata": {},
   "outputs": [
    {
     "name": "stdout",
     "output_type": "stream",
     "text": [
      "New sample: [2.0, 180.0, 74.0, 24.0, 21.0, 23.9091702, 1.488172308, 22.0]\n",
      "Predicted class is 1\n"
     ]
    }
   ],
   "source": [
    "# Load the model from the file\n",
    "model = joblib.load(filename)\n",
    "\n",
    "# predict on a new sample\n",
    "# The model accepts an array of feature arrays (so you can predict the classes of multiple patients in a single call)\n",
    "# We'll create an array with a single array of features, representing one patient\n",
    "X_new = np.array([[2,180,74,24,21,23.9091702,1.488172308,22]])\n",
    "print ('New sample: {}'.format(list(X_new[0])))\n",
    "\n",
    "# Get a prediction\n",
    "pred = model.predict(X_new)\n",
    "\n",
    "# The model returns an array of predictions - one for each set of features submitted\n",
    "# In our case, we only submitted one patient, so our prediction is the first one in the resulting array.\n",
    "print('Predicted class is {}'.format(pred[0]))"
   ]
  },
  {
   "cell_type": "code",
   "execution_count": null,
   "id": "89bf976f",
   "metadata": {},
   "outputs": [],
   "source": []
  }
 ],
 "metadata": {
  "kernelspec": {
   "display_name": "Python 3 (ipykernel)",
   "language": "python",
   "name": "python3"
  },
  "language_info": {
   "codemirror_mode": {
    "name": "ipython",
    "version": 3
   },
   "file_extension": ".py",
   "mimetype": "text/x-python",
   "name": "python",
   "nbconvert_exporter": "python",
   "pygments_lexer": "ipython3",
   "version": "3.7.5"
  }
 },
 "nbformat": 4,
 "nbformat_minor": 5
}
