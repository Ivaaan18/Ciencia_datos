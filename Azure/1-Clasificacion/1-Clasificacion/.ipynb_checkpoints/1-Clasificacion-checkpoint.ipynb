{
 "cells": [
  {
   "cell_type": "markdown",
   "id": "d96aea0f",
   "metadata": {},
   "source": [
    "# Clasificación\n",
    "\n",
    "Las técnicas de aprendizaje automático *supervisado* implican entrenar un modelo para operar en un conjunto de *características* y predecir una *etiqueta* utilizando un conjunto de datos que incluye algunos valores de etiqueta ya conocidos. Puede pensar en esta función de esta manera, en la que ***y*** representa la etiqueta que queremos predecir y ***X*** representa el vector de características que usa el modelo para predecirlo.\n",
    "\n",
    "$$y = f([x_1, x_2, x_3, ...])$$\n",
    "\n",
    "\n",
    "*Clasificación* es una forma de aprendizaje automático supervisado en el que entrena un modelo para usar las características (los valores ***x*** en nuestra función) para predecir una etiqueta (***y***) que calcula el probabilidad de que el caso observado pertenezca a cada una de varias clases posibles, y prediga una etiqueta apropiada. La forma más simple de clasificación es la clasificación *binaria*, en la que la etiqueta es 0 o 1, que representa una de dos clases; por ejemplo, \"Verdadero\" o \"Falso\"; \"Interno o externo\"; \"rentable\" o \"no rentable\"; y así.\n",
    "\n",
    "## Clasificación binaria\n",
    "\n",
    "En este cuaderno, nos centraremos en un ejemplo de *clasificación binaria*, donde el modelo debe predecir una etiqueta que pertenece a una de dos clases. En este ejercicio, entrenaremos un clasificador binario para predecir si un paciente debe o no someterse a una prueba de diabetes en función de algunos datos médicos.\n",
    "\n",
    "### Explorar los datos\n",
    "\n",
    "> **Cita**: El conjunto de datos de diabetes utilizado en este ejercicio se basa en datos recopilados originalmente por el Instituto Nacional de Diabetes y Enfermedades Digestivas y Renales."
   ]
  },
  {
   "cell_type": "code",
   "execution_count": 1,
   "id": "312ed6bd",
   "metadata": {},
   "outputs": [
    {
     "name": "stdout",
     "output_type": "stream",
     "text": [
      "\r",
      "  0% [                                                                            ]      0 / 776415\r",
      "  1% [                                                                            ]   8192 / 776415\r",
      "  2% [.                                                                           ]  16384 / 776415\r",
      "  3% [..                                                                          ]  24576 / 776415\r",
      "  4% [...                                                                         ]  32768 / 776415\r",
      "  5% [....                                                                        ]  40960 / 776415\r",
      "  6% [....                                                                        ]  49152 / 776415\r",
      "  7% [.....                                                                       ]  57344 / 776415\r",
      "  8% [......                                                                      ]  65536 / 776415\r",
      "  9% [.......                                                                     ]  73728 / 776415\r",
      " 10% [........                                                                    ]  81920 / 776415\r",
      " 11% [........                                                                    ]  90112 / 776415\r",
      " 12% [.........                                                                   ]  98304 / 776415\r",
      " 13% [..........                                                                  ] 106496 / 776415\r",
      " 14% [...........                                                                 ] 114688 / 776415\r",
      " 15% [............                                                                ] 122880 / 776415\r",
      " 16% [............                                                                ] 131072 / 776415\r",
      " 17% [.............                                                               ] 139264 / 776415\r",
      " 18% [..............                                                              ] 147456 / 776415\r",
      " 20% [...............                                                             ] 155648 / 776415\r",
      " 21% [................                                                            ] 163840 / 776415\r",
      " 22% [................                                                            ] 172032 / 776415\r",
      " 23% [.................                                                           ] 180224 / 776415\r",
      " 24% [..................                                                          ] 188416 / 776415\r",
      " 25% [...................                                                         ] 196608 / 776415\r",
      " 26% [....................                                                        ] 204800 / 776415\r",
      " 27% [....................                                                        ] 212992 / 776415\r",
      " 28% [.....................                                                       ] 221184 / 776415\r",
      " 29% [......................                                                      ] 229376 / 776415\r",
      " 30% [.......................                                                     ] 237568 / 776415\r",
      " 31% [........................                                                    ] 245760 / 776415\r",
      " 32% [........................                                                    ] 253952 / 776415\r",
      " 33% [.........................                                                   ] 262144 / 776415\r",
      " 34% [..........................                                                  ] 270336 / 776415\r",
      " 35% [...........................                                                 ] 278528 / 776415\r",
      " 36% [............................                                                ] 286720 / 776415\r",
      " 37% [............................                                                ] 294912 / 776415\r",
      " 39% [.............................                                               ] 303104 / 776415\r",
      " 40% [..............................                                              ] 311296 / 776415\r",
      " 41% [...............................                                             ] 319488 / 776415\r",
      " 42% [................................                                            ] 327680 / 776415\r",
      " 43% [................................                                            ] 335872 / 776415\r",
      " 44% [.................................                                           ] 344064 / 776415\r",
      " 45% [..................................                                          ] 352256 / 776415\r",
      " 46% [...................................                                         ] 360448 / 776415\r",
      " 47% [....................................                                        ] 368640 / 776415\r",
      " 48% [....................................                                        ] 376832 / 776415\r",
      " 49% [.....................................                                       ] 385024 / 776415\r",
      " 50% [......................................                                      ] 393216 / 776415\r",
      " 51% [.......................................                                     ] 401408 / 776415\r",
      " 52% [........................................                                    ] 409600 / 776415\r",
      " 53% [........................................                                    ] 417792 / 776415\r",
      " 54% [.........................................                                   ] 425984 / 776415\r",
      " 55% [..........................................                                  ] 434176 / 776415\r",
      " 56% [...........................................                                 ] 442368 / 776415\r",
      " 58% [............................................                                ] 450560 / 776415\r",
      " 59% [............................................                                ] 458752 / 776415\r",
      " 60% [.............................................                               ] 466944 / 776415\r",
      " 61% [..............................................                              ] 475136 / 776415\r",
      " 62% [...............................................                             ] 483328 / 776415\r",
      " 63% [................................................                            ] 491520 / 776415\r",
      " 64% [................................................                            ] 499712 / 776415\r",
      " 65% [.................................................                           ] 507904 / 776415\r",
      " 66% [..................................................                          ] 516096 / 776415\r",
      " 67% [...................................................                         ] 524288 / 776415\r",
      " 68% [....................................................                        ] 532480 / 776415\r",
      " 69% [....................................................                        ] 540672 / 776415\r",
      " 70% [.....................................................                       ] 548864 / 776415\r",
      " 71% [......................................................                      ] 557056 / 776415\r",
      " 72% [.......................................................                     ] 565248 / 776415\r",
      " 73% [........................................................                    ] 573440 / 776415\r",
      " 74% [........................................................                    ] 581632 / 776415\r",
      " 75% [.........................................................                   ] 589824 / 776415\r",
      " 77% [..........................................................                  ] 598016 / 776415\r",
      " 78% [...........................................................                 ] 606208 / 776415\r",
      " 79% [............................................................                ] 614400 / 776415\r",
      " 80% [............................................................                ] 622592 / 776415\r",
      " 81% [.............................................................               ] 630784 / 776415\r",
      " 82% [..............................................................              ] 638976 / 776415\r",
      " 83% [...............................................................             ] 647168 / 776415\r",
      " 84% [................................................................            ] 655360 / 776415\r",
      " 85% [................................................................            ] 663552 / 776415\r",
      " 86% [.................................................................           ] 671744 / 776415\r",
      " 87% [..................................................................          ] 679936 / 776415\r",
      " 88% [...................................................................         ] 688128 / 776415\r",
      " 89% [....................................................................        ] 696320 / 776415\r",
      " 90% [....................................................................        ] 704512 / 776415\r",
      " 91% [.....................................................................       ] 712704 / 776415\r",
      " 92% [......................................................................      ] 720896 / 776415\r",
      " 93% [.......................................................................     ] 729088 / 776415\r",
      " 94% [........................................................................    ] 737280 / 776415\r",
      " 96% [........................................................................    ] 745472 / 776415\r",
      " 97% [.........................................................................   ] 753664 / 776415\r",
      " 98% [..........................................................................  ] 761856 / 776415\r",
      " 99% [........................................................................... ] 770048 / 776415\r",
      "100% [............................................................................] 776415 / 776415"
     ]
    },
    {
     "data": {
      "text/html": [
       "<div>\n",
       "<style scoped>\n",
       "    .dataframe tbody tr th:only-of-type {\n",
       "        vertical-align: middle;\n",
       "    }\n",
       "\n",
       "    .dataframe tbody tr th {\n",
       "        vertical-align: top;\n",
       "    }\n",
       "\n",
       "    .dataframe thead th {\n",
       "        text-align: right;\n",
       "    }\n",
       "</style>\n",
       "<table border=\"1\" class=\"dataframe\">\n",
       "  <thead>\n",
       "    <tr style=\"text-align: right;\">\n",
       "      <th></th>\n",
       "      <th>PatientID</th>\n",
       "      <th>Pregnancies</th>\n",
       "      <th>PlasmaGlucose</th>\n",
       "      <th>DiastolicBloodPressure</th>\n",
       "      <th>TricepsThickness</th>\n",
       "      <th>SerumInsulin</th>\n",
       "      <th>BMI</th>\n",
       "      <th>DiabetesPedigree</th>\n",
       "      <th>Age</th>\n",
       "      <th>Diabetic</th>\n",
       "    </tr>\n",
       "  </thead>\n",
       "  <tbody>\n",
       "    <tr>\n",
       "      <th>0</th>\n",
       "      <td>1354778</td>\n",
       "      <td>0</td>\n",
       "      <td>171</td>\n",
       "      <td>80</td>\n",
       "      <td>34</td>\n",
       "      <td>23</td>\n",
       "      <td>43.509726</td>\n",
       "      <td>1.213191</td>\n",
       "      <td>21</td>\n",
       "      <td>0</td>\n",
       "    </tr>\n",
       "    <tr>\n",
       "      <th>1</th>\n",
       "      <td>1147438</td>\n",
       "      <td>8</td>\n",
       "      <td>92</td>\n",
       "      <td>93</td>\n",
       "      <td>47</td>\n",
       "      <td>36</td>\n",
       "      <td>21.240576</td>\n",
       "      <td>0.158365</td>\n",
       "      <td>23</td>\n",
       "      <td>0</td>\n",
       "    </tr>\n",
       "    <tr>\n",
       "      <th>2</th>\n",
       "      <td>1640031</td>\n",
       "      <td>7</td>\n",
       "      <td>115</td>\n",
       "      <td>47</td>\n",
       "      <td>52</td>\n",
       "      <td>35</td>\n",
       "      <td>41.511523</td>\n",
       "      <td>0.079019</td>\n",
       "      <td>23</td>\n",
       "      <td>0</td>\n",
       "    </tr>\n",
       "    <tr>\n",
       "      <th>3</th>\n",
       "      <td>1883350</td>\n",
       "      <td>9</td>\n",
       "      <td>103</td>\n",
       "      <td>78</td>\n",
       "      <td>25</td>\n",
       "      <td>304</td>\n",
       "      <td>29.582192</td>\n",
       "      <td>1.282870</td>\n",
       "      <td>43</td>\n",
       "      <td>1</td>\n",
       "    </tr>\n",
       "    <tr>\n",
       "      <th>4</th>\n",
       "      <td>1424119</td>\n",
       "      <td>1</td>\n",
       "      <td>85</td>\n",
       "      <td>59</td>\n",
       "      <td>27</td>\n",
       "      <td>35</td>\n",
       "      <td>42.604536</td>\n",
       "      <td>0.549542</td>\n",
       "      <td>22</td>\n",
       "      <td>0</td>\n",
       "    </tr>\n",
       "  </tbody>\n",
       "</table>\n",
       "</div>"
      ],
      "text/plain": [
       "   PatientID  Pregnancies  PlasmaGlucose  DiastolicBloodPressure  \\\n",
       "0    1354778            0            171                      80   \n",
       "1    1147438            8             92                      93   \n",
       "2    1640031            7            115                      47   \n",
       "3    1883350            9            103                      78   \n",
       "4    1424119            1             85                      59   \n",
       "\n",
       "   TricepsThickness  SerumInsulin        BMI  DiabetesPedigree  Age  Diabetic  \n",
       "0                34            23  43.509726          1.213191   21         0  \n",
       "1                47            36  21.240576          0.158365   23         0  \n",
       "2                52            35  41.511523          0.079019   23         0  \n",
       "3                25           304  29.582192          1.282870   43         1  \n",
       "4                27            35  42.604536          0.549542   22         0  "
      ]
     },
     "execution_count": 1,
     "metadata": {},
     "output_type": "execute_result"
    }
   ],
   "source": [
    "import pandas as pd\n",
    "import wget\n",
    "\n",
    "# load the training dataset\n",
    "wget.download('https://raw.githubusercontent.com/MicrosoftDocs/mslearn-introduction-to-machine-learning/main/Data/ml-basics/diabetes.csv')\n",
    "diabetes = pd.read_csv('diabetes.csv')\n",
    "diabetes.head()"
   ]
  },
  {
   "cell_type": "markdown",
   "id": "13f1dd60",
   "metadata": {},
   "source": [
    "Estos datos consisten en información de diagnóstico sobre algunos pacientes a los que se les ha realizado la prueba de diabetes. Desplácese hacia la derecha si es necesario y tenga en cuenta que la columna final en el conjunto de datos (**Diabetic**) contiene el valor ***0*** para pacientes que dieron negativo en la prueba de diabetes y ***1*** para pacientes que dieron positivo. Esta es la etiqueta que entrenaremos para que prediga nuestro modelo; la mayoría de las demás columnas (**Embarazos**, **Glucosa plasmática**, **Presión arterial diastólica**, etc.) son las funciones que usaremos para predecir la etiqueta **Diabético**.\n",
    "\n",
    "Separemos las características de las etiquetas: llamaremos a las características ***X*** y a la etiqueta ***y***:"
   ]
  },
  {
   "cell_type": "code",
   "execution_count": 2,
   "id": "79f89857",
   "metadata": {},
   "outputs": [
    {
     "name": "stdout",
     "output_type": "stream",
     "text": [
      "Patient 1 \n",
      "  Features: [0.0, 171.0, 80.0, 34.0, 23.0, 43.50972593, 1.213191354, 21.0] \n",
      "  Label: 0\n",
      "Patient 2 \n",
      "  Features: [8.0, 92.0, 93.0, 47.0, 36.0, 21.24057571, 0.158364981, 23.0] \n",
      "  Label: 0\n",
      "Patient 3 \n",
      "  Features: [7.0, 115.0, 47.0, 52.0, 35.0, 41.51152348, 0.079018568, 23.0] \n",
      "  Label: 0\n",
      "Patient 4 \n",
      "  Features: [9.0, 103.0, 78.0, 25.0, 304.0, 29.58219193, 1.282869847, 43.0] \n",
      "  Label: 1\n"
     ]
    }
   ],
   "source": [
    "# Separate features and labels\n",
    "features = ['Pregnancies','PlasmaGlucose','DiastolicBloodPressure','TricepsThickness','SerumInsulin','BMI','DiabetesPedigree','Age']\n",
    "label = 'Diabetic'\n",
    "X, y = diabetes[features].values, diabetes[label].values\n",
    "\n",
    "for n in range(0,4):\n",
    "    print(\"Patient\", str(n+1), \"\\n  Features:\",list(X[n]), \"\\n  Label:\", y[n])"
   ]
  },
  {
   "cell_type": "code",
   "execution_count": 3,
   "id": "153fdbe8",
   "metadata": {},
   "outputs": [
    {
     "data": {
      "image/png": "[encoded data removed]",
      "text/plain": [
       "<Figure size 432x432 with 1 Axes>"
      ]
     },
     "metadata": {
      "needs_background": "light"
     },
     "output_type": "display_data"
    },
    {
     "data": {
      "image/png": "[encoded data removed]",
      "text/plain": [
       "<Figure size 432x432 with 1 Axes>"
      ]
     },
     "metadata": {
      "needs_background": "light"
     },
     "output_type": "display_data"
    },
    {
     "data": {
      "image/png": "[encoded data removed]",
      "text/plain": [
       "<Figure size 432x432 with 1 Axes>"
      ]
     },
     "metadata": {
      "needs_background": "light"
     },
     "output_type": "display_data"
    },
    {
     "data": {
      "image/png": "[encoded data removed]",
      "text/plain": [
       "<Figure size 432x432 with 1 Axes>"
      ]
     },
     "metadata": {
      "needs_background": "light"
     },
     "output_type": "display_data"
    },
    {
     "data": {
      "image/png": "[encoded data removed]",
      "text/plain": [
       "<Figure size 432x432 with 1 Axes>"
      ]
     },
     "metadata": {
      "needs_background": "light"
     },
     "output_type": "display_data"
    },
    {
     "data": {
      "image/png": "[encoded data removed]",
      "text/plain": [
       "<Figure size 432x432 with 1 Axes>"
      ]
     },
     "metadata": {
      "needs_background": "light"
     },
     "output_type": "display_data"
    },
    {
     "data": {
      "image/png": "[encoded data removed]",
      "text/plain": [
       "<Figure size 432x432 with 1 Axes>"
      ]
     },
     "metadata": {
      "needs_background": "light"
     },
     "output_type": "display_data"
    },
    {
     "data": {
      "image/png": "[encoded data removed]",
      "text/plain": [
       "<Figure size 432x432 with 1 Axes>"
      ]
     },
     "metadata": {
      "needs_background": "light"
     },
     "output_type": "display_data"
    }
   ],
   "source": [
    "from matplotlib import pyplot as plt\n",
    "%matplotlib inline\n",
    "\n",
    "features = ['Pregnancies','PlasmaGlucose','DiastolicBloodPressure','TricepsThickness','SerumInsulin','BMI','DiabetesPedigree','Age']\n",
    "for col in features:\n",
    "    diabetes.boxplot(column=col, by='Diabetic', figsize=(6,6))\n",
    "    plt.title(col)\n",
    "plt.show()"
   ]
  },
  {
   "cell_type": "markdown",
   "id": "2fa337f0",
   "metadata": {},
   "source": [
    "Para algunas de las características, hay una diferencia notable en la distribución de cada valor de etiqueta. En particular, **Embarazos** ​​y **Edad** muestran distribuciones marcadamente diferentes para pacientes diabéticos que para pacientes no diabéticos. Estas características pueden ayudar a predecir si un paciente es diabético o no.\n",
    "\n",
    "### Dividir los datos\n",
    "\n",
    "Nuestro conjunto de datos incluye valores conocidos para la etiqueta, por lo que podemos usarlo para entrenar un clasificador para que encuentre una relación estadística entre las características y el valor de la etiqueta; pero ¿cómo sabremos si nuestro modelo es bueno? ¿Cómo sabemos que predecirá correctamente cuando lo usamos con nuevos datos con los que no fue entrenado? Bueno, podemos aprovechar el hecho de que tenemos un gran conjunto de datos con valores de etiqueta conocidos, usar solo una parte para entrenar el modelo y retener algunos para probar el modelo entrenado, lo que nos permite comparar las etiquetas pronosticadas con las ya conocidas. etiquetas en el conjunto de prueba.\n",
    "\n",
    "En Python, el paquete **scikit-learn** contiene una gran cantidad de funciones que podemos usar para crear un modelo de aprendizaje automático, incluida una función **train_test_split** que garantiza que obtengamos una división estadísticamente aleatoria de los datos de entrenamiento y prueba. Usaremos eso para dividir los datos en un 70 % para el entrenamiento y retener un 30 % para las pruebas."
   ]
  },
  {
   "cell_type": "code",
   "execution_count": 4,
   "id": "0733df31",
   "metadata": {},
   "outputs": [
    {
     "name": "stdout",
     "output_type": "stream",
     "text": [
      "Training cases: 10500\n",
      "Test cases: 4500\n"
     ]
    }
   ],
   "source": [
    "from sklearn.model_selection import train_test_split\n",
    "\n",
    "# Split data 70%-30% into training set and test set\n",
    "X_train, X_test, y_train, y_test = train_test_split(X, y, test_size=0.30, random_state=0)\n",
    "\n",
    "print ('Training cases: %d\\nTest cases: %d' % (X_train.shape[0], X_test.shape[0]))"
   ]
  },
  {
   "cell_type": "markdown",
   "id": "8d334e16",
   "metadata": {},
   "source": [
    "### Entrenar y evaluar un modelo de clasificación binaria\n",
    "Bien, ahora estamos listos para entrenar nuestro modelo ajustando las funciones de entrenamiento (**X_train**) a las etiquetas de entrenamiento (**y_train**). Hay varios algoritmos que podemos usar para entrenar el modelo. En este ejemplo, usaremos *Regresión logística*, que (a pesar de su nombre) es un algoritmo bien establecido para la clasificación. Además de las características y etiquetas de entrenamiento, necesitaremos establecer un parámetro de *regularización*. Esto se usa para contrarrestar cualquier sesgo en la muestra y ayudar a que el modelo se generalice bien evitando *sobreajustar* el modelo a los datos de entrenamiento.\n",
    "\n",
    "> **Nota**: Los parámetros para los algoritmos de aprendizaje automático generalmente se denominan *hiperparámetros* (para un científico de datos, los *parámetros* son valores en los propios datos - ¡los *hiperparámetros* se definen externamente a partir de los datos!)"
   ]
  },
  {
   "cell_type": "code",
   "execution_count": 5,
   "id": "75a8a8fb",
   "metadata": {},
   "outputs": [
    {
     "name": "stdout",
     "output_type": "stream",
     "text": [
      "LogisticRegression(C=100.0, solver='liblinear')\n"
     ]
    }
   ],
   "source": [
    "# Train the model\n",
    "from sklearn.linear_model import LogisticRegression\n",
    "\n",
    "# Set regularization rate\n",
    "reg = 0.01\n",
    "\n",
    "# train a logistic regression model on the training set\n",
    "model = LogisticRegression(C=1/reg, solver=\"liblinear\").fit(X_train, y_train)\n",
    "print (model)"
   ]
  },
  {
   "cell_type": "markdown",
   "id": "7031939d",
   "metadata": {},
   "source": [
    "Ahora que hemos entrenado el modelo usando los datos de entrenamiento, podemos usar los datos de prueba que retuvimos para evaluar qué tan bien predice. Nuevamente, scikit-learn puede ayudarnos a hacer esto. Comencemos usando el modelo para predecir etiquetas para nuestro conjunto de prueba y comparemos las etiquetas pronosticadas con las etiquetas conocidas:"
   ]
  },
  {
   "cell_type": "code",
   "execution_count": 6,
   "id": "04f80401",
   "metadata": {},
   "outputs": [
    {
     "name": "stdout",
     "output_type": "stream",
     "text": [
      "Predicted labels:  [0 0 0 ... 0 1 0]\n",
      "Actual labels:     [0 0 1 ... 1 1 1]\n"
     ]
    }
   ],
   "source": [
    "predictions = model.predict(X_test)\n",
    "print('Predicted labels: ', predictions)\n",
    "print('Actual labels:    ' ,y_test)"
   ]
  },
  {
   "cell_type": "markdown",
   "id": "ee44f2c8",
   "metadata": {},
   "source": [
    "The arrays of labels are too long to be displayed in the notebook output, so we can only compare a few values. Even if we printed out all of the predicted and actual labels, there are too many of them to make this a sensible way to evaluate the model. Fortunately, **scikit-learn** has a few more tricks up its sleeve, and it provides some metrics that we can use to evaluate the model.\n",
    "\n",
    "The most obvious thing you might want to do is to check the *accuracy* of the predictions - in simple terms, what proportion of the labels did the model predict correctly?"
   ]
  },
  {
   "cell_type": "code",
   "execution_count": 7,
   "id": "a53f2711",
   "metadata": {},
   "outputs": [
    {
     "name": "stdout",
     "output_type": "stream",
     "text": [
      "Accuracy:  0.7891111111111111\n"
     ]
    }
   ],
   "source": [
    "from sklearn.metrics import accuracy_score\n",
    "\n",
    "print('Accuracy: ', accuracy_score(y_test, predictions))"
   ]
  },
  {
   "cell_type": "markdown",
   "id": "63cff858",
   "metadata": {},
   "source": [
    "La precisión se devuelve como un valor decimal: un valor de 1,0 significaría que el modelo acertó en el 100 % de las predicciones; mientras que una precisión de 0.0 es, bueno, ¡bastante inútil!\n",
    "\n",
    "\n",
    "## Resumen\n",
    "\n",
    "Aquí preparamos nuestros datos dividiéndolos en conjuntos de datos de prueba y entrenamiento, y aplicamos la regresión logística, una forma de aplicar etiquetas binarias a nuestros datos. Nuestro modelo fue capaz de predecir si los pacientes tenían diabetes con lo que parece ser una precisión razonable. ¿Pero es esto lo suficientemente bueno? En el próximo cuaderno, veremos alternativas a la precisión que pueden ser mucho más útiles en el aprendizaje automático."
   ]
  },
  {
   "cell_type": "code",
   "execution_count": 8,
   "id": "08507b65",
   "metadata": {},
   "outputs": [
    {
     "name": "stdout",
     "output_type": "stream",
     "text": [
      "              precision    recall  f1-score   support\n",
      "\n",
      "           0       0.81      0.88      0.85      2986\n",
      "           1       0.72      0.60      0.66      1514\n",
      "\n",
      "    accuracy                           0.79      4500\n",
      "   macro avg       0.77      0.74      0.75      4500\n",
      "weighted avg       0.78      0.79      0.78      4500\n",
      "\n"
     ]
    }
   ],
   "source": [
    "from sklearn. metrics import classification_report\n",
    "\n",
    "print(classification_report(y_test, predictions))"
   ]
  },
  {
   "cell_type": "markdown",
   "id": "f249ffd2",
   "metadata": {},
   "source": [
    "El informe de clasificación incluye las siguientes métricas para cada clase (0 y 1)\n",
    "\n",
    "> tenga en cuenta que es posible que la fila del encabezado no coincida con los valores.\n",
    "\n",
    "* *Precisión*: De las predicciones que hizo el modelo para esta clase, ¿qué proporción fueron correctas?\n",
    "* *Recuerde*: De todas las instancias de esta clase en el conjunto de datos de prueba, ¿cuántas identificó el modelo?\n",
    "* *F1-Score*: una métrica promedio que tiene en cuenta tanto la precisión como la recuperación.\n",
    "* *Soporte*: ¿Cuántas instancias de esta clase hay en el conjunto de datos de prueba?\n",
    "\n",
    "El informe de clasificación también incluye promedios para estas métricas, incluido un promedio ponderado que permite el desequilibrio en la cantidad de casos de cada clase.\n",
    "\n",
    "Debido a que este es un problema de clasificación *binario*, la clase ***1*** se considera *positiva* y su precisión y recuperación son particularmente interesantes; en efecto, responden las preguntas:\n",
    "\n",
    "- De todos los pacientes que el modelo predijo que son diabéticos, ¿cuántos son realmente diabéticos?\n",
    "- De todos los pacientes que en realidad son diabéticos, ¿cuántos identificó el modelo?\n",
    "\n",
    "Puede recuperar estos valores por sí solos usando las métricas **precision_score** y **recall_score** en scikit-learn (que por defecto asumen un modelo de clasificación binaria)."
   ]
  },
  {
   "cell_type": "code",
   "execution_count": 9,
   "id": "90c1bcfc",
   "metadata": {},
   "outputs": [
    {
     "name": "stdout",
     "output_type": "stream",
     "text": [
      "Overall Precision: 0.723673792557403\n",
      "Overall Recall: 0.6036988110964333\n"
     ]
    }
   ],
   "source": [
    "from sklearn.metrics import precision_score, recall_score\n",
    "\n",
    "print(\"Overall Precision:\",precision_score(y_test, predictions))\n",
    "print(\"Overall Recall:\",recall_score(y_test, predictions))"
   ]
  },
  {
   "cell_type": "markdown",
   "id": "9f99992f",
   "metadata": {},
   "source": [
    "Las métricas de precisión y recuperación se derivan de cuatro posibles resultados de predicción:\n",
    "* *Verdaderos positivos*: la etiqueta pronosticada y la etiqueta real son ambas 1.\n",
    "* *Falsos positivos*: la etiqueta predicha es 1, pero la etiqueta real es 0.\n",
    "* *Falsos negativos*: la etiqueta predicha es 0, pero la etiqueta real es 1.\n",
    "* *Negativos verdaderos*: la etiqueta pronosticada y la etiqueta real son ambas 0.\n",
    "\n",
    "Estas métricas generalmente se tabulan para el conjunto de prueba y se muestran juntas como una *matriz de confusión*, que toma la siguiente forma:\n",
    "\n",
    "<table style=\"border: 1px negro sólido;\">\n",
    "    <tr style=\"border: 1px negro sólido;\">\n",
    "        <td style=\"borde: 1px negro sólido; color: negro;\" bgcolor=\"lightgray\">TN</td><td style=\"borde: 1px negro sólido; color: negro;\" bgcolor=\"blanco\">FP</td>\n",
    "    </tr>\n",
    "    <tr style=\"border: 1px negro sólido;\">\n",
    "        <td style=\"borde: 1px negro sólido; color: negro;\" bgcolor=\"blanco\">FN</td><td style=\"borde: 1px negro sólido; color: negro;\" bgcolor=\"gris claro\">TP</td>\n",
    "    </tr>\n",
    "</tabla>\n",
    "\n",
    "Tenga en cuenta que las predicciones correctas (*verdaderas*) forman una línea diagonal desde la parte superior izquierda hasta la parte inferior derecha; estas cifras deberían ser significativamente más altas que las predicciones *falsas* si el modelo es bueno.\n",
    "\n",
    "En Python, puede usar la función **sklearn.metrics.confusion_matrix** para encontrar estos valores para un clasificador entrenado:"
   ]
  },
  {
   "cell_type": "code",
   "execution_count": 10,
   "id": "3ef3f410",
   "metadata": {},
   "outputs": [
    {
     "name": "stdout",
     "output_type": "stream",
     "text": [
      "[[2637  349]\n",
      " [ 600  914]]\n"
     ]
    }
   ],
   "source": [
    "from sklearn.metrics import confusion_matrix\n",
    "\n",
    "# Print the confusion matrix\n",
    "cm = confusion_matrix(y_test, predictions)\n",
    "print (cm)"
   ]
  },
  {
   "cell_type": "markdown",
   "id": "b93ef4dd",
   "metadata": {},
   "source": [
    "Hasta ahora, hemos considerado las predicciones del modelo como etiquetas de clase 1 o 0. En realidad, las cosas son un poco más complejas que eso. Los algoritmos de aprendizaje automático estadístico, como la regresión logística, se basan en la *probabilidad*; entonces, lo que realmente predice un clasificador binario es la probabilidad de que la etiqueta sea verdadera (**P(y)**) y la probabilidad de que la etiqueta sea falsa (1 - **P(y)**). Se utiliza un valor de umbral de 0,5 para decidir si la etiqueta predicha es un 1 (*P(y) > 0,5*) o un 0 (*P(y) <= 0,5*). Puedes usar el método **predict_proba** para ver los pares de probabilidad para cada caso:"
   ]
  },
  {
   "cell_type": "code",
   "execution_count": 11,
   "id": "6fc52598",
   "metadata": {},
   "outputs": [
    {
     "name": "stdout",
     "output_type": "stream",
     "text": [
      "[[0.81691654 0.18308346]\n",
      " [0.96319867 0.03680133]\n",
      " [0.80878349 0.19121651]\n",
      " ...\n",
      " [0.60498669 0.39501331]\n",
      " [0.10601324 0.89398676]\n",
      " [0.63803401 0.36196599]]\n"
     ]
    }
   ],
   "source": [
    "y_scores = model.predict_proba(X_test)\n",
    "print(y_scores)"
   ]
  },
  {
   "cell_type": "markdown",
   "id": "678c7eae",
   "metadata": {},
   "source": [
    "La decisión de puntuar una predicción como 1 o 0 depende del umbral con el que se comparan las probabilidades pronosticadas. Si tuviéramos que cambiar el umbral, afectaría las predicciones; y por lo tanto cambiar las métricas en la matriz de confusión. Una forma común de evaluar un clasificador es examinar la *tasa de verdaderos positivos* (que es otro nombre para recordar) y la *tasa de falsos positivos* para un rango de umbrales posibles. Luego, estas tasas se trazan contra todos los umbrales posibles para formar un gráfico conocido como *gráfico de características del operador recibido (ROC)*, como este:"
   ]
  },
  {
   "cell_type": "code",
   "execution_count": 12,
   "id": "2218e0cf",
   "metadata": {},
   "outputs": [
    {
     "data": {
      "image/png": "[encoded data removed]",
      "text/plain": [
       "<Figure size 432x432 with 1 Axes>"
      ]
     },
     "metadata": {
      "needs_background": "light"
     },
     "output_type": "display_data"
    }
   ],
   "source": [
    "from sklearn.metrics import roc_curve\n",
    "from sklearn.metrics import confusion_matrix\n",
    "import matplotlib\n",
    "import matplotlib.pyplot as plt\n",
    "%matplotlib inline\n",
    "\n",
    "# calculate ROC curve\n",
    "fpr, tpr, thresholds = roc_curve(y_test, y_scores[:,1])\n",
    "\n",
    "# plot ROC curve\n",
    "fig = plt.figure(figsize=(6, 6))\n",
    "# Plot the diagonal 50% line\n",
    "plt.plot([0, 1], [0, 1], 'k--')\n",
    "# Plot the FPR and TPR achieved by our model\n",
    "plt.plot(fpr, tpr)\n",
    "plt.xlabel('False Positive Rate')\n",
    "plt.ylabel('True Positive Rate')\n",
    "plt.title('ROC Curve')\n",
    "plt.show()"
   ]
  },
  {
   "cell_type": "markdown",
   "id": "f0c754c4",
   "metadata": {},
   "source": [
    "El gráfico ROC muestra la curva de las tasas de verdaderos y falsos positivos para diferentes valores de umbral entre 0 y 1. Un clasificador perfecto tendría una curva que sube directamente por el lado izquierdo y cruza directamente la parte superior. La línea diagonal que atraviesa el gráfico representa la probabilidad de predecir correctamente con una predicción aleatoria 50/50; por lo que obviamente desea que la curva sea más alta que eso (¡o su modelo no es mejor que simplemente adivinar!).\n",
    "\n",
    "El área bajo la curva (AUC) es un valor entre 0 y 1 que cuantifica el rendimiento general del modelo. Cuanto más cerca de 1 sea este valor, mejor será el modelo. Una vez más, scikit-Learn incluye una función para calcular esta métrica."
   ]
  },
  {
   "cell_type": "code",
   "execution_count": 13,
   "id": "da5b7cc5",
   "metadata": {},
   "outputs": [
    {
     "name": "stdout",
     "output_type": "stream",
     "text": [
      "AUC: 0.8568358637091986\n"
     ]
    }
   ],
   "source": [
    "from sklearn.metrics import roc_auc_score\n",
    "\n",
    "auc = roc_auc_score(y_test,y_scores[:,1])\n",
    "print('AUC: ' + str(auc))"
   ]
  },
  {
   "cell_type": "markdown",
   "id": "ed0ebdfb",
   "metadata": {},
   "source": [
    "### Realizar preprocesamiento en una canalización\n",
    "\n",
    "En este caso, la curva ROC y su AUC indican que el modelo funciona mejor que una suposición aleatoria, lo cual no está mal considerando que realizamos muy poco preprocesamiento de los datos.\n",
    "\n",
    "En la práctica, es común realizar algún preprocesamiento de los datos para que sea más fácil para el algoritmo ajustar un modelo a ellos. Hay una gran variedad de transformaciones de preprocesamiento que puede realizar para preparar sus datos para el modelado, pero nos limitaremos a algunas técnicas comunes:\n",
    "\n",
    "- Escalar características numéricas para que estén en la misma escala. Esto evita que las características con valores grandes produzcan coeficientes que afecten de manera desproporcionada a las predicciones.\n",
    "- Codificación de variables categóricas. Por ejemplo, mediante el uso de una técnica de *una codificación en caliente* puede crear características binarias individuales (verdadero/falso) para cada valor de categoría posible.\n",
    "\n",
    "Para aplicar estas transformaciones de preprocesamiento, utilizaremos una característica de Scikit-Learn denominada *tuberías*. Estos nos permiten definir un conjunto de pasos de preprocesamiento que terminan con un algoritmo. A continuación, puede ajustar toda la canalización a los datos, de modo que el modelo encapsule todos los pasos de preprocesamiento, así como el algoritmo de regresión. Esto es útil, porque cuando queremos usar el modelo para predecir valores a partir de datos nuevos, necesitamos aplicar las mismas transformaciones (basadas en las mismas distribuciones estadísticas y codificaciones de categorías que se usan con los datos de entrenamiento).\n",
    "\n",
    ">**Nota**: El término *canalización* se usa ampliamente en el aprendizaje automático, ¡a menudo con significados muy diferentes! En este contexto, lo usamos para referirnos a objetos de canalización en Scikit-Learn, pero es posible que vea que se usa en otros lugares para significar otra cosa."
   ]
  },
  {
   "cell_type": "code",
   "execution_count": 14,
   "id": "20552b36",
   "metadata": {},
   "outputs": [
    {
     "name": "stdout",
     "output_type": "stream",
     "text": [
      "Pipeline(steps=[('preprocessor',\n",
      "                 ColumnTransformer(transformers=[('num',\n",
      "                                                  Pipeline(steps=[('scaler',\n",
      "                                                                   StandardScaler())]),\n",
      "                                                  [0, 1, 2, 3, 4, 5, 6]),\n",
      "                                                 ('cat',\n",
      "                                                  Pipeline(steps=[('onehot',\n",
      "                                                                   OneHotEncoder(handle_unknown='ignore'))]),\n",
      "                                                  [7])])),\n",
      "                ('logregressor',\n",
      "                 LogisticRegression(C=100.0, solver='liblinear'))])\n"
     ]
    }
   ],
   "source": [
    "# Train the model\n",
    "from sklearn.compose import ColumnTransformer\n",
    "from sklearn.pipeline import Pipeline\n",
    "from sklearn.preprocessing import StandardScaler, OneHotEncoder\n",
    "from sklearn.linear_model import LogisticRegression\n",
    "import numpy as np\n",
    "\n",
    "# Define preprocessing for numeric columns (normalize them so they're on the same scale)\n",
    "numeric_features = [0,1,2,3,4,5,6]\n",
    "numeric_transformer = Pipeline(steps=[\n",
    "    ('scaler', StandardScaler())])\n",
    "\n",
    "# Define preprocessing for categorical features (encode the Age column)\n",
    "categorical_features = [7]\n",
    "categorical_transformer = Pipeline(steps=[\n",
    "    ('onehot', OneHotEncoder(handle_unknown='ignore'))])\n",
    "\n",
    "# Combine preprocessing steps\n",
    "preprocessor = ColumnTransformer(\n",
    "    transformers=[\n",
    "        ('num', numeric_transformer, numeric_features),\n",
    "        ('cat', categorical_transformer, categorical_features)])\n",
    "\n",
    "# Create preprocessing and training pipeline\n",
    "pipeline = Pipeline(steps=[('preprocessor', preprocessor),\n",
    "                           ('logregressor', LogisticRegression(C=1/reg, solver=\"liblinear\"))])\n",
    "\n",
    "\n",
    "# fit the pipeline to train a logistic regression model on the training set\n",
    "model = pipeline.fit(X_train, (y_train))\n",
    "print (model)"
   ]
  },
  {
   "cell_type": "markdown",
   "id": "71338206",
   "metadata": {},
   "source": [
    "La canalización encapsula los pasos de preprocesamiento, así como el entrenamiento del modelo.\n",
    "\n",
    "Usemos el modelo entrenado por esta canalización para predecir etiquetas para nuestro conjunto de prueba y comparemos las métricas de rendimiento con el modelo básico que creamos anteriormente."
   ]
  },
  {
   "cell_type": "code",
   "execution_count": 15,
   "id": "eff2330e",
   "metadata": {},
   "outputs": [
    {
     "name": "stdout",
     "output_type": "stream",
     "text": [
      "Confusion Matrix:\n",
      " [[2667  319]\n",
      " [ 406 1108]] \n",
      "\n",
      "Accuracy: 0.8388888888888889\n",
      "Overall Precision: 0.7764540995094604\n",
      "Overall Recall: 0.7318361955085865\n",
      "AUC: 0.9202436115345854\n"
     ]
    },
    {
     "data": {
      "image/png": "[encoded data removed]",
      "text/plain": [
       "<Figure size 432x432 with 1 Axes>"
      ]
     },
     "metadata": {
      "needs_background": "light"
     },
     "output_type": "display_data"
    }
   ],
   "source": [
    "# Get predictions from test data\n",
    "predictions = model.predict(X_test)\n",
    "y_scores = model.predict_proba(X_test)\n",
    "\n",
    "# Get evaluation metrics\n",
    "cm = confusion_matrix(y_test, predictions)\n",
    "print ('Confusion Matrix:\\n',cm, '\\n')\n",
    "print('Accuracy:', accuracy_score(y_test, predictions))\n",
    "print(\"Overall Precision:\",precision_score(y_test, predictions))\n",
    "print(\"Overall Recall:\",recall_score(y_test, predictions))\n",
    "auc = roc_auc_score(y_test,y_scores[:,1])\n",
    "print('AUC: ' + str(auc))\n",
    "\n",
    "# calculate ROC curve\n",
    "fpr, tpr, thresholds = roc_curve(y_test, y_scores[:,1])\n",
    "\n",
    "# plot ROC curve\n",
    "fig = plt.figure(figsize=(6, 6))\n",
    "# Plot the diagonal 50% line\n",
    "plt.plot([0, 1], [0, 1], 'k--')\n",
    "# Plot the FPR and TPR achieved by our model\n",
    "plt.plot(fpr, tpr)\n",
    "plt.xlabel('False Positive Rate')\n",
    "plt.ylabel('True Positive Rate')\n",
    "plt.title('ROC Curve')\n",
    "plt.show()\n",
    "\n"
   ]
  },
  {
   "cell_type": "markdown",
   "id": "af74b8c7",
   "metadata": {},
   "source": [
    "Los resultados se ven un poco mejores, por lo que claramente el preprocesamiento de los datos ha marcado la diferencia.\n",
    "\n",
    "### Pruebe con un algoritmo diferente\n",
    "\n",
    "Ahora probemos con un algoritmo diferente. Anteriormente usamos un algoritmo de regresión logística, que es un algoritmo *lineal*. Hay muchos tipos de algoritmos de clasificación que podríamos probar, entre ellos:\n",
    "\n",
    "- **Algoritmos de Máquina de Vectores de Soporte**: Algoritmos que definen un *hiperplano* que separa clases.\n",
    "- **Algoritmos basados en árboles**: algoritmos que construyen un árbol de decisión para llegar a una predicción\n",
    "- **Algoritmos de conjunto**: algoritmos que combinan los resultados de varios algoritmos básicos para mejorar la generalización.\n",
    "\n",
    "Esta vez, usaremos los mismos pasos de preprocesamiento que antes, pero entrenaremos el modelo usando un algoritmo *ensamble* llamado *Random Forest* que combina los resultados de múltiples árboles de decisión aleatorios (para obtener más detalles, consulte [Scikit -Documentación de aprendizaje](https://scikit-learn.org/stable/modules/ensemble.html#forests-of-randomized-trees))."
   ]
  },
  {
   "cell_type": "code",
   "execution_count": 16,
   "id": "470cd4fe",
   "metadata": {},
   "outputs": [
    {
     "name": "stdout",
     "output_type": "stream",
     "text": [
      "Pipeline(steps=[('preprocessor',\n",
      "                 ColumnTransformer(transformers=[('num',\n",
      "                                                  Pipeline(steps=[('scaler',\n",
      "                                                                   StandardScaler())]),\n",
      "                                                  [0, 1, 2, 3, 4, 5, 6]),\n",
      "                                                 ('cat',\n",
      "                                                  Pipeline(steps=[('onehot',\n",
      "                                                                   OneHotEncoder(handle_unknown='ignore'))]),\n",
      "                                                  [7])])),\n",
      "                ('logregressor', RandomForestClassifier())])\n"
     ]
    }
   ],
   "source": [
    "from sklearn.ensemble import RandomForestClassifier\n",
    "\n",
    "# Create preprocessing and training pipeline\n",
    "pipeline = Pipeline(steps=[('preprocessor', preprocessor),\n",
    "                           ('logregressor', RandomForestClassifier(n_estimators=100))])\n",
    "\n",
    "# fit the pipeline to train a random forest model on the training set\n",
    "model = pipeline.fit(X_train, (y_train))\n",
    "print (model)"
   ]
  },
  {
   "cell_type": "markdown",
   "id": "a0e9934c",
   "metadata": {},
   "source": [
    "Veamos las métricas de rendimiento del nuevo modelo."
   ]
  },
  {
   "cell_type": "code",
   "execution_count": 17,
   "id": "4ada8441",
   "metadata": {},
   "outputs": [
    {
     "name": "stdout",
     "output_type": "stream",
     "text": [
      "Confusion Matrix:\n",
      " [[2853  133]\n",
      " [ 166 1348]] \n",
      "\n",
      "Accuracy: 0.9335555555555556\n",
      "Overall Precision: 0.9101958136394328\n",
      "Overall Recall: 0.8903566710700133\n",
      "\n",
      "AUC: 0.9818877350135063\n"
     ]
    },
    {
     "data": {
      "image/png": "[encoded data removed]",
      "text/plain": [
       "<Figure size 432x432 with 1 Axes>"
      ]
     },
     "metadata": {
      "needs_background": "light"
     },
     "output_type": "display_data"
    }
   ],
   "source": [
    "predictions = model.predict(X_test)\n",
    "y_scores = model.predict_proba(X_test)\n",
    "cm = confusion_matrix(y_test, predictions)\n",
    "print ('Confusion Matrix:\\n',cm, '\\n')\n",
    "print('Accuracy:', accuracy_score(y_test, predictions))\n",
    "print(\"Overall Precision:\",precision_score(y_test, predictions))\n",
    "print(\"Overall Recall:\",recall_score(y_test, predictions))\n",
    "auc = roc_auc_score(y_test,y_scores[:,1])\n",
    "print('\\nAUC: ' + str(auc))\n",
    "\n",
    "# calculate ROC curve\n",
    "fpr, tpr, thresholds = roc_curve(y_test, y_scores[:,1])\n",
    "\n",
    "# plot ROC curve\n",
    "fig = plt.figure(figsize=(6, 6))\n",
    "# Plot the diagonal 50% line\n",
    "plt.plot([0, 1], [0, 1], 'k--')\n",
    "# Plot the FPR and TPR achieved by our model\n",
    "plt.plot(fpr, tpr)\n",
    "plt.xlabel('False Positive Rate')\n",
    "plt.ylabel('True Positive Rate')\n",
    "plt.title('ROC Curve')\n",
    "plt.show()"
   ]
  },
  {
   "cell_type": "markdown",
   "id": "5ec71102",
   "metadata": {},
   "source": [
    "¡Eso se ve mejor!\n",
    "\n",
    "### Usar el modelo para hacer inferencias\n",
    "Ahora que tenemos un modelo entrenado razonablemente útil, podemos guardarlo para usarlo más tarde para predecir etiquetas para nuevos datos:"
   ]
  },
  {
   "cell_type": "code",
   "execution_count": 18,
   "id": "31891bd6",
   "metadata": {},
   "outputs": [
    {
     "data": {
      "text/plain": [
       "['./diabetes_model.pkl']"
      ]
     },
     "execution_count": 18,
     "metadata": {},
     "output_type": "execute_result"
    }
   ],
   "source": [
    "import joblib\n",
    "\n",
    "# Save the model as a pickle file\n",
    "filename = './diabetes_model.pkl'\n",
    "joblib.dump(model, filename)"
   ]
  },
  {
   "cell_type": "markdown",
   "id": "e9fad27c",
   "metadata": {},
   "source": [
    "Cuando tenemos algunas observaciones nuevas para las que se desconoce la etiqueta, podemos cargar el modelo y usarlo para predecir valores para la etiqueta desconocida:"
   ]
  },
  {
   "cell_type": "code",
   "execution_count": 19,
   "id": "e582501b",
   "metadata": {},
   "outputs": [
    {
     "name": "stdout",
     "output_type": "stream",
     "text": [
      "New sample: [2.0, 180.0, 74.0, 24.0, 21.0, 23.9091702, 1.488172308, 22.0]\n",
      "Predicted class is 1\n"
     ]
    }
   ],
   "source": [
    "# Load the model from the file\n",
    "model = joblib.load(filename)\n",
    "\n",
    "# predict on a new sample\n",
    "# The model accepts an array of feature arrays (so you can predict the classes of multiple patients in a single call)\n",
    "# We'll create an array with a single array of features, representing one patient\n",
    "X_new = np.array([[2,180,74,24,21,23.9091702,1.488172308,22]])\n",
    "print ('New sample: {}'.format(list(X_new[0])))\n",
    "\n",
    "# Get a prediction\n",
    "pred = model.predict(X_new)\n",
    "\n",
    "# The model returns an array of predictions - one for each set of features submitted\n",
    "# In our case, we only submitted one patient, so our prediction is the first one in the resulting array.\n",
    "print('Predicted class is {}'.format(pred[0]))"
   ]
  }
 ],
 "metadata": {
  "kernelspec": {
   "display_name": "Python 3 (ipykernel)",
   "language": "python",
   "name": "python3"
  },
  "language_info": {
   "codemirror_mode": {
    "name": "ipython",
    "version": 3
   },
   "file_extension": ".py",
   "mimetype": "text/x-python",
   "name": "python",
   "nbconvert_exporter": "python",
   "pygments_lexer": "ipython3",
   "version": "3.7.5"
  }
 },
 "nbformat": 4,
 "nbformat_minor": 5
}
