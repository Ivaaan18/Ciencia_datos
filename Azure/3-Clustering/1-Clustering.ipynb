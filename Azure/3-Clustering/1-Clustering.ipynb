{
 "cells": [
  {
   "cell_type": "markdown",
   "id": "54a032c4",
   "metadata": {},
   "source": [
    "# Agrupación - Introducción\n",
    "\n",
    "En contraste con el aprendizaje automático *supervisado*, el aprendizaje *no supervisado* se usa cuando no hay una \"verdad básica\" a partir de la cual entrenar y validar las predicciones de las etiquetas. La forma más común de aprendizaje no supervisado es la *agrupación*, que es conceptualmente similar a la *clasificación*, excepto que los datos de entrenamiento no incluyen valores conocidos para la predicción de la etiqueta de clase. La agrupación en clústeres funciona separando los casos de entrenamiento en función de las similitudes que se pueden determinar a partir de sus valores de características. Piénsalo de esta manera; las características numéricas de una entidad determinada se pueden considerar como coordenadas vectoriales que definen la posición de la entidad en el espacio n-dimensional. Lo que busca hacer un modelo de agrupamiento es identificar grupos, o *conglomerados*, de entidades que están cerca unas de otras mientras están separadas de otros conglomerados.\n",
    "\n",
    "Por ejemplo, echemos un vistazo a un conjunto de datos que contiene medidas de diferentes especies de semillas de trigo.\n",
    "\n",
    "> **Cita**: El conjunto de datos de semillas utilizado en este ejercicio fue publicado originalmente por el Instituto de Agrofísica de la Academia de Ciencias de Polonia en Lublin, y se puede descargar del repositorio de conjuntos de datos de la UCI (Dua, D. y Graff, C (2019).Repositorio de aprendizaje automático de UCI [http://archive.ics.uci.edu/ml].Irvine, CA: Universidad de California, Escuela de Información y Ciencias de la Computación)."
   ]
  },
  {
   "cell_type": "code",
   "execution_count": 7,
   "id": "bc9ae079",
   "metadata": {},
   "outputs": [
    {
     "name": "stdout",
     "output_type": "stream",
     "text": [
      "\r",
      "  0% [                                                                                ]    0 / 9386\r",
      " 87% [.....................................................................           ] 8192 / 9386\r",
      "100% [................................................................................] 9386 / 9386"
     ]
    },
    {
     "data": {
      "text/html": [
       "<div>\n",
       "<style scoped>\n",
       "    .dataframe tbody tr th:only-of-type {\n",
       "        vertical-align: middle;\n",
       "    }\n",
       "\n",
       "    .dataframe tbody tr th {\n",
       "        vertical-align: top;\n",
       "    }\n",
       "\n",
       "    .dataframe thead th {\n",
       "        text-align: right;\n",
       "    }\n",
       "</style>\n",
       "<table border=\"1\" class=\"dataframe\">\n",
       "  <thead>\n",
       "    <tr style=\"text-align: right;\">\n",
       "      <th></th>\n",
       "      <th>area</th>\n",
       "      <th>perimeter</th>\n",
       "      <th>compactness</th>\n",
       "      <th>kernel_length</th>\n",
       "      <th>kernel_width</th>\n",
       "      <th>asymmetry_coefficient</th>\n",
       "    </tr>\n",
       "  </thead>\n",
       "  <tbody>\n",
       "    <tr>\n",
       "      <th>187</th>\n",
       "      <td>10.91</td>\n",
       "      <td>12.80</td>\n",
       "      <td>0.8372</td>\n",
       "      <td>5.088</td>\n",
       "      <td>2.675</td>\n",
       "      <td>4.179</td>\n",
       "    </tr>\n",
       "    <tr>\n",
       "      <th>39</th>\n",
       "      <td>14.28</td>\n",
       "      <td>14.17</td>\n",
       "      <td>0.8944</td>\n",
       "      <td>5.397</td>\n",
       "      <td>3.298</td>\n",
       "      <td>6.685</td>\n",
       "    </tr>\n",
       "    <tr>\n",
       "      <th>203</th>\n",
       "      <td>12.70</td>\n",
       "      <td>13.41</td>\n",
       "      <td>0.8874</td>\n",
       "      <td>5.183</td>\n",
       "      <td>3.091</td>\n",
       "      <td>8.456</td>\n",
       "    </tr>\n",
       "    <tr>\n",
       "      <th>169</th>\n",
       "      <td>11.24</td>\n",
       "      <td>13.00</td>\n",
       "      <td>0.8359</td>\n",
       "      <td>5.090</td>\n",
       "      <td>2.715</td>\n",
       "      <td>3.521</td>\n",
       "    </tr>\n",
       "    <tr>\n",
       "      <th>159</th>\n",
       "      <td>11.49</td>\n",
       "      <td>13.22</td>\n",
       "      <td>0.8263</td>\n",
       "      <td>5.304</td>\n",
       "      <td>2.695</td>\n",
       "      <td>5.388</td>\n",
       "    </tr>\n",
       "    <tr>\n",
       "      <th>178</th>\n",
       "      <td>11.48</td>\n",
       "      <td>13.05</td>\n",
       "      <td>0.8473</td>\n",
       "      <td>5.180</td>\n",
       "      <td>2.758</td>\n",
       "      <td>5.876</td>\n",
       "    </tr>\n",
       "    <tr>\n",
       "      <th>92</th>\n",
       "      <td>18.81</td>\n",
       "      <td>16.29</td>\n",
       "      <td>0.8906</td>\n",
       "      <td>6.272</td>\n",
       "      <td>3.693</td>\n",
       "      <td>3.237</td>\n",
       "    </tr>\n",
       "    <tr>\n",
       "      <th>73</th>\n",
       "      <td>19.11</td>\n",
       "      <td>16.26</td>\n",
       "      <td>0.9081</td>\n",
       "      <td>6.154</td>\n",
       "      <td>3.930</td>\n",
       "      <td>2.936</td>\n",
       "    </tr>\n",
       "    <tr>\n",
       "      <th>129</th>\n",
       "      <td>17.55</td>\n",
       "      <td>15.66</td>\n",
       "      <td>0.8991</td>\n",
       "      <td>5.791</td>\n",
       "      <td>3.690</td>\n",
       "      <td>5.366</td>\n",
       "    </tr>\n",
       "    <tr>\n",
       "      <th>34</th>\n",
       "      <td>15.05</td>\n",
       "      <td>14.68</td>\n",
       "      <td>0.8779</td>\n",
       "      <td>5.712</td>\n",
       "      <td>3.328</td>\n",
       "      <td>2.129</td>\n",
       "    </tr>\n",
       "  </tbody>\n",
       "</table>\n",
       "</div>"
      ],
      "text/plain": [
       "      area  perimeter  compactness  kernel_length  kernel_width  \\\n",
       "187  10.91      12.80       0.8372          5.088         2.675   \n",
       "39   14.28      14.17       0.8944          5.397         3.298   \n",
       "203  12.70      13.41       0.8874          5.183         3.091   \n",
       "169  11.24      13.00       0.8359          5.090         2.715   \n",
       "159  11.49      13.22       0.8263          5.304         2.695   \n",
       "178  11.48      13.05       0.8473          5.180         2.758   \n",
       "92   18.81      16.29       0.8906          6.272         3.693   \n",
       "73   19.11      16.26       0.9081          6.154         3.930   \n",
       "129  17.55      15.66       0.8991          5.791         3.690   \n",
       "34   15.05      14.68       0.8779          5.712         3.328   \n",
       "\n",
       "     asymmetry_coefficient  \n",
       "187                  4.179  \n",
       "39                   6.685  \n",
       "203                  8.456  \n",
       "169                  3.521  \n",
       "159                  5.388  \n",
       "178                  5.876  \n",
       "92                   3.237  \n",
       "73                   2.936  \n",
       "129                  5.366  \n",
       "34                   2.129  "
      ]
     },
     "execution_count": 7,
     "metadata": {},
     "output_type": "execute_result"
    }
   ],
   "source": [
    "import pandas as pd\n",
    "import wget\n",
    "\n",
    "# load the training dataset\n",
    "wget.download('https://raw.githubusercontent.com/MicrosoftDocs/mslearn-introduction-to-machine-learning/main/Data/ml-basics/seeds.csv')\n",
    "data = pd.read_csv('seeds.csv')\n",
    "\n",
    "# Display a random sample of 10 observations (just the features)\n",
    "features = data[data.columns[0:6]]\n",
    "features.sample(10)"
   ]
  },
  {
   "cell_type": "markdown",
   "id": "a694c2b7",
   "metadata": {},
   "source": [
    "Como puede ver, el conjunto de datos contiene seis puntos de datos (o *características*) para cada instancia (*observación*) de una semilla. Entonces podría interpretarlos como coordenadas que describen la ubicación de cada instancia en un espacio de seis dimensiones.\n",
    "\n",
    "Ahora, por supuesto, el espacio de seis dimensiones es difícil de visualizar en un mundo tridimensional, o en una trama de dos dimensiones; así que aprovecharemos una técnica matemática llamada *Análisis de componentes principales* (PCA) para analizar las relaciones entre las características y resumir cada observación como coordenadas para dos componentes principales; en otras palabras, traduciremos la característica de seis dimensiones valores en coordenadas bidimensionales."
   ]
  },
  {
   "cell_type": "code",
   "execution_count": 8,
   "id": "a97db221",
   "metadata": {},
   "outputs": [
    {
     "data": {
      "text/plain": [
       "array([[ 0.11883593, -0.09382469],\n",
       "       [ 0.0696878 , -0.31077233],\n",
       "       [-0.03499184, -0.37044705],\n",
       "       [-0.06582089, -0.36365235],\n",
       "       [ 0.32594892, -0.37695797],\n",
       "       [-0.02455447, -0.31060184],\n",
       "       [-0.00769646, -0.07594931],\n",
       "       [-0.05646955, -0.26696284],\n",
       "       [ 0.38196305, -0.05149471],\n",
       "       [ 0.35701044, -0.17697998]])"
      ]
     },
     "execution_count": 8,
     "metadata": {},
     "output_type": "execute_result"
    }
   ],
   "source": [
    "from sklearn.preprocessing import MinMaxScaler\n",
    "from sklearn.decomposition import PCA\n",
    "\n",
    "# Normalize the numeric features so they're on the same scale\n",
    "scaled_features = MinMaxScaler().fit_transform(features[data.columns[0:6]])\n",
    "\n",
    "# Get two principal components\n",
    "pca = PCA(n_components=2).fit(scaled_features)\n",
    "features_2d = pca.transform(scaled_features)\n",
    "features_2d[0:10]"
   ]
  },
  {
   "cell_type": "markdown",
   "id": "651ee833",
   "metadata": {},
   "source": [
    "Ahora que tenemos los puntos de datos traducidos a dos dimensiones, podemos visualizarlos en un gráfico:"
   ]
  },
  {
   "cell_type": "code",
   "execution_count": 10,
   "id": "e6f9c554",
   "metadata": {},
   "outputs": [
    {
     "data": {
      "image/png": "[encoded data removed]",
      "text/plain": [
       "<Figure size 432x288 with 1 Axes>"
      ]
     },
     "metadata": {
      "needs_background": "light"
     },
     "output_type": "display_data"
    }
   ],
   "source": [
    "import matplotlib.pyplot as plt\n",
    "\n",
    "%matplotlib inline\n",
    "\n",
    "plt.scatter(features_2d[:,0],features_2d[:,1])\n",
    "plt.xlabel('Dimension 1')\n",
    "plt.ylabel('Dimension 2')\n",
    "plt.title('Data')\n",
    "plt.show()"
   ]
  },
  {
   "cell_type": "markdown",
   "id": "9ad9f995",
   "metadata": {},
   "source": [
    "Es de esperar que pueda ver al menos dos, posiblemente tres, grupos razonablemente distintos de puntos de datos; pero aquí radica uno de los problemas fundamentales con la agrupación en clústeres: sin etiquetas de clase conocidas, ¿cómo sabe en cuántos clústeres debe separar sus datos?\n",
    "\n",
    "Una forma en que podemos intentar averiguarlo es usar una muestra de datos para crear una serie de modelos de agrupamiento con un número creciente de grupos y medir qué tan estrechamente se agrupan los puntos de datos dentro de cada grupo. Una métrica que se usa a menudo para medir esta estrechez es la *suma de cuadrados dentro del grupo* (WCSS), con valores más bajos que significan que los puntos de datos están más cerca. A continuación, puede trazar el WCSS para cada modelo."
   ]
  },
  {
   "cell_type": "code",
   "execution_count": 11,
   "id": "1a8e8613",
   "metadata": {},
   "outputs": [
    {
     "data": {
      "image/png": "[encoded data removed]",
      "text/plain": [
       "<Figure size 432x288 with 1 Axes>"
      ]
     },
     "metadata": {
      "needs_background": "light"
     },
     "output_type": "display_data"
    }
   ],
   "source": [
    "#importing the libraries\n",
    "import numpy as np\n",
    "import matplotlib.pyplot as plt\n",
    "from sklearn.cluster import KMeans\n",
    "%matplotlib inline\n",
    "\n",
    "# Create 10 models with 1 to 10 clusters\n",
    "wcss = []\n",
    "for i in range(1, 11):\n",
    "    kmeans = KMeans(n_clusters = i)\n",
    "    # Fit the data points\n",
    "    kmeans.fit(features.values)\n",
    "    # Get the WCSS (inertia) value\n",
    "    wcss.append(kmeans.inertia_)\n",
    "    \n",
    "#Plot the WCSS values onto a line graph\n",
    "plt.plot(range(1, 11), wcss)\n",
    "plt.title('WCSS by Clusters')\n",
    "plt.xlabel('Number of clusters')\n",
    "plt.ylabel('WCSS')\n",
    "plt.show()"
   ]
  },
  {
   "cell_type": "markdown",
   "id": "5974a647",
   "metadata": {},
   "source": [
    "La gráfica muestra una gran reducción en WCSS (por lo tanto, mayor *estrechez*) a medida que el número de grupos aumenta de uno a dos, y una reducción más notable de dos a tres grupos. Después de eso, la reducción es menos pronunciada, lo que da como resultado un \"codo\" en el gráfico de alrededor de tres grupos. Esta es una buena indicación de que hay dos o tres grupos de puntos de datos razonablemente bien separados.\n",
    "\n",
    "## Resumen\n",
    "\n",
    "Aquí analizamos qué significa la agrupación en clústeres y cómo determinar si la agrupación en clústeres podría ser apropiada para sus datos. En el siguiente cuaderno, veremos dos formas de\n",
    "etiquetando los datos automáticamente."
   ]
  }
 ],
 "metadata": {
  "kernelspec": {
   "display_name": "Python 3 (ipykernel)",
   "language": "python",
   "name": "python3"
  },
  "language_info": {
   "codemirror_mode": {
    "name": "ipython",
    "version": 3
   },
   "file_extension": ".py",
   "mimetype": "text/x-python",
   "name": "python",
   "nbconvert_exporter": "python",
   "pygments_lexer": "ipython3",
   "version": "3.7.5"
  }
 },
 "nbformat": 4,
 "nbformat_minor": 5
}
