{
 "cells": [
  {
   "cell_type": "code",
   "execution_count": 1,
   "metadata": {},
   "outputs": [],
   "source": [
    "import numpy as np"
   ]
  },
  {
   "cell_type": "code",
   "execution_count": 2,
   "metadata": {},
   "outputs": [],
   "source": [
    "### ejercicio:\n",
    "vector=[3,6,1,9,11]"
   ]
  },
  {
   "cell_type": "code",
   "execution_count": 3,
   "metadata": {},
   "outputs": [],
   "source": [
    "##Matriz\n",
    "matriz=[[1,3,4],[6,8,3],[0,5,3]]"
   ]
  },
  {
   "cell_type": "code",
   "execution_count": 4,
   "metadata": {},
   "outputs": [
    {
     "data": {
      "text/plain": [
       "[[1, 3, 4], [6, 8, 3], [0, 5, 3]]"
      ]
     },
     "execution_count": 4,
     "metadata": {},
     "output_type": "execute_result"
    }
   ],
   "source": [
    "matriz"
   ]
  },
  {
   "cell_type": "code",
   "execution_count": 7,
   "metadata": {},
   "outputs": [
    {
     "name": "stdout",
     "output_type": "stream",
     "text": [
      "[1, 3, 4]\n",
      "[6, 8, 3]\n",
      "[0, 5, 3]\n"
     ]
    }
   ],
   "source": [
    "##Ejercicio.\n",
    "##Multiplicar la matriz por 2\n",
    "matriz2=[]\n",
    "for fila in matriz:\n",
    "    print(fila)\n",
    "    fila2=[]\n",
    "    for elmen in fila:\n",
    "        fila2.append(elmen*2)\n",
    "    matriz2.append(fila2)\n",
    "    "
   ]
  },
  {
   "cell_type": "code",
   "execution_count": 8,
   "metadata": {},
   "outputs": [
    {
     "data": {
      "text/plain": [
       "[[2, 6, 8], [12, 16, 6], [0, 10, 6]]"
      ]
     },
     "execution_count": 8,
     "metadata": {},
     "output_type": "execute_result"
    }
   ],
   "source": [
    "matriz2"
   ]
  },
  {
   "cell_type": "code",
   "execution_count": 9,
   "metadata": {},
   "outputs": [
    {
     "data": {
      "text/plain": [
       "[[1, 3, 4], [6, 8, 3], [0, 5, 3], [1, 3, 4], [6, 8, 3], [0, 5, 3]]"
      ]
     },
     "execution_count": 9,
     "metadata": {},
     "output_type": "execute_result"
    }
   ],
   "source": [
    "2*matriz"
   ]
  },
  {
   "cell_type": "code",
   "execution_count": 10,
   "metadata": {},
   "outputs": [],
   "source": [
    "## Array de numpy"
   ]
  },
  {
   "cell_type": "code",
   "execution_count": 11,
   "metadata": {},
   "outputs": [],
   "source": [
    "np_matriz=np.array(matriz)"
   ]
  },
  {
   "cell_type": "code",
   "execution_count": 12,
   "metadata": {},
   "outputs": [
    {
     "data": {
      "text/plain": [
       "array([[1, 3, 4],\n",
       "       [6, 8, 3],\n",
       "       [0, 5, 3]])"
      ]
     },
     "execution_count": 12,
     "metadata": {},
     "output_type": "execute_result"
    }
   ],
   "source": [
    "np_matriz"
   ]
  },
  {
   "cell_type": "code",
   "execution_count": 13,
   "metadata": {},
   "outputs": [
    {
     "data": {
      "text/plain": [
       "array([[ 2,  6,  8],\n",
       "       [12, 16,  6],\n",
       "       [ 0, 10,  6]])"
      ]
     },
     "execution_count": 13,
     "metadata": {},
     "output_type": "execute_result"
    }
   ],
   "source": [
    "2*np_matriz"
   ]
  },
  {
   "cell_type": "code",
   "execution_count": 14,
   "metadata": {},
   "outputs": [],
   "source": [
    "mi_vector=np.array([4,7,9,2,5,6])"
   ]
  },
  {
   "cell_type": "code",
   "execution_count": 15,
   "metadata": {},
   "outputs": [
    {
     "data": {
      "text/plain": [
       "array([4, 7, 9, 2, 5, 6])"
      ]
     },
     "execution_count": 15,
     "metadata": {},
     "output_type": "execute_result"
    }
   ],
   "source": [
    "mi_vector"
   ]
  },
  {
   "cell_type": "code",
   "execution_count": 16,
   "metadata": {},
   "outputs": [],
   "source": [
    "mi_vector2=np.array([4,5.0,True,\"e\"])"
   ]
  },
  {
   "cell_type": "code",
   "execution_count": 17,
   "metadata": {},
   "outputs": [
    {
     "data": {
      "text/plain": [
       "array(['4', '5.0', 'True', 'e'], dtype='<U32')"
      ]
     },
     "execution_count": 17,
     "metadata": {},
     "output_type": "execute_result"
    }
   ],
   "source": [
    "mi_vector2"
   ]
  },
  {
   "cell_type": "code",
   "execution_count": 18,
   "metadata": {},
   "outputs": [],
   "source": [
    "mi_vector2=np.array([4,5.0,True,\"e\",(3,4)])"
   ]
  },
  {
   "cell_type": "code",
   "execution_count": 19,
   "metadata": {},
   "outputs": [
    {
     "data": {
      "text/plain": [
       "array([4, 5.0, True, 'e', (3, 4)], dtype=object)"
      ]
     },
     "execution_count": 19,
     "metadata": {},
     "output_type": "execute_result"
    }
   ],
   "source": [
    "mi_vector2"
   ]
  },
  {
   "cell_type": "code",
   "execution_count": 22,
   "metadata": {},
   "outputs": [
    {
     "data": {
      "text/plain": [
       "dtype('int32')"
      ]
     },
     "execution_count": 22,
     "metadata": {},
     "output_type": "execute_result"
    }
   ],
   "source": [
    "np_matriz.dtype"
   ]
  },
  {
   "cell_type": "code",
   "execution_count": 23,
   "metadata": {},
   "outputs": [],
   "source": [
    "unos=np.ones((4,5))"
   ]
  },
  {
   "cell_type": "code",
   "execution_count": 24,
   "metadata": {},
   "outputs": [
    {
     "data": {
      "text/plain": [
       "array([[1., 1., 1., 1., 1.],\n",
       "       [1., 1., 1., 1., 1.],\n",
       "       [1., 1., 1., 1., 1.],\n",
       "       [1., 1., 1., 1., 1.]])"
      ]
     },
     "execution_count": 24,
     "metadata": {},
     "output_type": "execute_result"
    }
   ],
   "source": [
    "unos"
   ]
  },
  {
   "cell_type": "code",
   "execution_count": 25,
   "metadata": {},
   "outputs": [],
   "source": [
    "ceros=np.zeros((4,5))"
   ]
  },
  {
   "cell_type": "code",
   "execution_count": 26,
   "metadata": {},
   "outputs": [
    {
     "data": {
      "text/plain": [
       "array([[0., 0., 0., 0., 0.],\n",
       "       [0., 0., 0., 0., 0.],\n",
       "       [0., 0., 0., 0., 0.],\n",
       "       [0., 0., 0., 0., 0.]])"
      ]
     },
     "execution_count": 26,
     "metadata": {},
     "output_type": "execute_result"
    }
   ],
   "source": [
    "ceros"
   ]
  },
  {
   "cell_type": "code",
   "execution_count": 27,
   "metadata": {},
   "outputs": [],
   "source": [
    "identidad5=np.identity(5)"
   ]
  },
  {
   "cell_type": "code",
   "execution_count": 28,
   "metadata": {},
   "outputs": [
    {
     "data": {
      "text/plain": [
       "array([[1., 0., 0., 0., 0.],\n",
       "       [0., 1., 0., 0., 0.],\n",
       "       [0., 0., 1., 0., 0.],\n",
       "       [0., 0., 0., 1., 0.],\n",
       "       [0., 0., 0., 0., 1.]])"
      ]
     },
     "execution_count": 28,
     "metadata": {},
     "output_type": "execute_result"
    }
   ],
   "source": [
    "identidad5"
   ]
  },
  {
   "cell_type": "markdown",
   "metadata": {},
   "source": [
    "### shape"
   ]
  },
  {
   "cell_type": "code",
   "execution_count": 30,
   "metadata": {},
   "outputs": [
    {
     "data": {
      "text/plain": [
       "(6,)"
      ]
     },
     "execution_count": 30,
     "metadata": {},
     "output_type": "execute_result"
    }
   ],
   "source": [
    "mi_vector.shape"
   ]
  },
  {
   "cell_type": "code",
   "execution_count": 31,
   "metadata": {},
   "outputs": [
    {
     "data": {
      "text/plain": [
       "array([4, 7, 9, 2, 5, 6])"
      ]
     },
     "execution_count": 31,
     "metadata": {},
     "output_type": "execute_result"
    }
   ],
   "source": [
    "mi_vector"
   ]
  },
  {
   "cell_type": "code",
   "execution_count": 33,
   "metadata": {},
   "outputs": [
    {
     "data": {
      "text/plain": [
       "(4, 5)"
      ]
     },
     "execution_count": 33,
     "metadata": {},
     "output_type": "execute_result"
    }
   ],
   "source": [
    "unos.shape"
   ]
  },
  {
   "cell_type": "code",
   "execution_count": 34,
   "metadata": {},
   "outputs": [
    {
     "data": {
      "text/plain": [
       "array([[1., 1., 1., 1., 1.],\n",
       "       [1., 1., 1., 1., 1.],\n",
       "       [1., 1., 1., 1., 1.],\n",
       "       [1., 1., 1., 1., 1.]])"
      ]
     },
     "execution_count": 34,
     "metadata": {},
     "output_type": "execute_result"
    }
   ],
   "source": [
    "unos"
   ]
  },
  {
   "cell_type": "code",
   "execution_count": 36,
   "metadata": {},
   "outputs": [],
   "source": [
    "mi_vector2=np.array([[4, 7, 9, 2, 5, 6]])"
   ]
  },
  {
   "cell_type": "code",
   "execution_count": 37,
   "metadata": {},
   "outputs": [
    {
     "data": {
      "text/plain": [
       "array([[4, 7, 9, 2, 5, 6]])"
      ]
     },
     "execution_count": 37,
     "metadata": {},
     "output_type": "execute_result"
    }
   ],
   "source": [
    "mi_vector2"
   ]
  },
  {
   "cell_type": "code",
   "execution_count": 38,
   "metadata": {},
   "outputs": [
    {
     "data": {
      "text/plain": [
       "(1, 6)"
      ]
     },
     "execution_count": 38,
     "metadata": {},
     "output_type": "execute_result"
    }
   ],
   "source": [
    "mi_vector2.shape"
   ]
  },
  {
   "cell_type": "markdown",
   "metadata": {},
   "source": [
    "## .reshape"
   ]
  },
  {
   "cell_type": "code",
   "execution_count": 40,
   "metadata": {},
   "outputs": [
    {
     "data": {
      "text/plain": [
       "array([[1., 1., 1., 1.],\n",
       "       [1., 1., 1., 1.],\n",
       "       [1., 1., 1., 1.],\n",
       "       [1., 1., 1., 1.],\n",
       "       [1., 1., 1., 1.]])"
      ]
     },
     "execution_count": 40,
     "metadata": {},
     "output_type": "execute_result"
    }
   ],
   "source": [
    "unos.reshape((5,4))"
   ]
  },
  {
   "cell_type": "code",
   "execution_count": 41,
   "metadata": {},
   "outputs": [
    {
     "data": {
      "text/plain": [
       "array([[2]])"
      ]
     },
     "execution_count": 41,
     "metadata": {},
     "output_type": "execute_result"
    }
   ],
   "source": [
    "np.array([[2]])"
   ]
  },
  {
   "cell_type": "code",
   "execution_count": 42,
   "metadata": {},
   "outputs": [
    {
     "data": {
      "text/plain": [
       "(1, 1)"
      ]
     },
     "execution_count": 42,
     "metadata": {},
     "output_type": "execute_result"
    }
   ],
   "source": [
    "np.array([[2]]).shape"
   ]
  },
  {
   "cell_type": "code",
   "execution_count": 43,
   "metadata": {},
   "outputs": [
    {
     "data": {
      "text/plain": [
       "array([2])"
      ]
     },
     "execution_count": 43,
     "metadata": {},
     "output_type": "execute_result"
    }
   ],
   "source": [
    "np.array([2])"
   ]
  },
  {
   "cell_type": "code",
   "execution_count": 44,
   "metadata": {},
   "outputs": [
    {
     "data": {
      "text/plain": [
       "(1,)"
      ]
     },
     "execution_count": 44,
     "metadata": {},
     "output_type": "execute_result"
    }
   ],
   "source": [
    "np.array([2]).shape"
   ]
  },
  {
   "cell_type": "code",
   "execution_count": 45,
   "metadata": {},
   "outputs": [
    {
     "data": {
      "text/plain": [
       "array([[2],\n",
       "       [2]])"
      ]
     },
     "execution_count": 45,
     "metadata": {},
     "output_type": "execute_result"
    }
   ],
   "source": [
    "np.array([[2],[2]])"
   ]
  },
  {
   "cell_type": "code",
   "execution_count": 47,
   "metadata": {},
   "outputs": [
    {
     "data": {
      "text/plain": [
       "(2, 1)"
      ]
     },
     "execution_count": 47,
     "metadata": {},
     "output_type": "execute_result"
    }
   ],
   "source": [
    "np.array([[2],[2]]).shape"
   ]
  },
  {
   "cell_type": "code",
   "execution_count": 48,
   "metadata": {},
   "outputs": [
    {
     "data": {
      "text/plain": [
       "array([list([2]), list([2, 3])], dtype=object)"
      ]
     },
     "execution_count": 48,
     "metadata": {},
     "output_type": "execute_result"
    }
   ],
   "source": [
    "np.array([[2],[2,3]])"
   ]
  },
  {
   "cell_type": "code",
   "execution_count": 49,
   "metadata": {},
   "outputs": [
    {
     "data": {
      "text/plain": [
       "array([4, 7, 9, 2, 5, 6])"
      ]
     },
     "execution_count": 49,
     "metadata": {},
     "output_type": "execute_result"
    }
   ],
   "source": [
    "mi_vector"
   ]
  },
  {
   "cell_type": "code",
   "execution_count": 50,
   "metadata": {},
   "outputs": [
    {
     "data": {
      "text/plain": [
       "array([[4],\n",
       "       [7],\n",
       "       [9],\n",
       "       [2],\n",
       "       [5],\n",
       "       [6]])"
      ]
     },
     "execution_count": 50,
     "metadata": {},
     "output_type": "execute_result"
    }
   ],
   "source": [
    "mi_vector.reshape((6,1))"
   ]
  },
  {
   "cell_type": "code",
   "execution_count": 51,
   "metadata": {},
   "outputs": [
    {
     "data": {
      "text/plain": [
       "array([[4, 7, 9, 2, 5, 6]])"
      ]
     },
     "execution_count": 51,
     "metadata": {},
     "output_type": "execute_result"
    }
   ],
   "source": [
    "mi_vector.reshape((1,6))"
   ]
  },
  {
   "cell_type": "markdown",
   "metadata": {},
   "source": [
    "# astype"
   ]
  },
  {
   "cell_type": "code",
   "execution_count": 52,
   "metadata": {},
   "outputs": [
    {
     "data": {
      "text/plain": [
       "array([[1., 1., 1., 1., 1.],\n",
       "       [1., 1., 1., 1., 1.],\n",
       "       [1., 1., 1., 1., 1.],\n",
       "       [1., 1., 1., 1., 1.]])"
      ]
     },
     "execution_count": 52,
     "metadata": {},
     "output_type": "execute_result"
    }
   ],
   "source": [
    "unos"
   ]
  },
  {
   "cell_type": "code",
   "execution_count": 53,
   "metadata": {},
   "outputs": [
    {
     "data": {
      "text/plain": [
       "dtype('float64')"
      ]
     },
     "execution_count": 53,
     "metadata": {},
     "output_type": "execute_result"
    }
   ],
   "source": [
    "unos.dtype"
   ]
  },
  {
   "cell_type": "code",
   "execution_count": 54,
   "metadata": {},
   "outputs": [
    {
     "data": {
      "text/plain": [
       "array([[1, 1, 1, 1, 1],\n",
       "       [1, 1, 1, 1, 1],\n",
       "       [1, 1, 1, 1, 1],\n",
       "       [1, 1, 1, 1, 1]])"
      ]
     },
     "execution_count": 54,
     "metadata": {},
     "output_type": "execute_result"
    }
   ],
   "source": [
    "\n",
    "unos.astype(\"int32\")"
   ]
  },
  {
   "cell_type": "code",
   "execution_count": 56,
   "metadata": {},
   "outputs": [
    {
     "data": {
      "text/plain": [
       "array([1., 2., 3., 1.])"
      ]
     },
     "execution_count": 56,
     "metadata": {},
     "output_type": "execute_result"
    }
   ],
   "source": [
    "np.array([1,2,3.0,True])"
   ]
  },
  {
   "cell_type": "code",
   "execution_count": 58,
   "metadata": {},
   "outputs": [
    {
     "data": {
      "text/plain": [
       "array([[1, 3, 4],\n",
       "       [6, 8, 3],\n",
       "       [0, 5, 3]])"
      ]
     },
     "execution_count": 58,
     "metadata": {},
     "output_type": "execute_result"
    }
   ],
   "source": [
    "np_matriz"
   ]
  },
  {
   "cell_type": "code",
   "execution_count": 59,
   "metadata": {},
   "outputs": [
    {
     "data": {
      "text/plain": [
       "array([[ 2,  6,  8],\n",
       "       [12, 16,  6],\n",
       "       [ 0, 10,  6]])"
      ]
     },
     "execution_count": 59,
     "metadata": {},
     "output_type": "execute_result"
    }
   ],
   "source": [
    "2*np_matriz"
   ]
  },
  {
   "cell_type": "code",
   "execution_count": 60,
   "metadata": {},
   "outputs": [
    {
     "data": {
      "text/plain": [
       "array([[ 2.5,  7.5, 10. ],\n",
       "       [15. , 20. ,  7.5],\n",
       "       [ 0. , 12.5,  7.5]])"
      ]
     },
     "execution_count": 60,
     "metadata": {},
     "output_type": "execute_result"
    }
   ],
   "source": [
    "2.5*np_matriz"
   ]
  },
  {
   "cell_type": "code",
   "execution_count": 61,
   "metadata": {},
   "outputs": [
    {
     "data": {
      "text/plain": [
       "array([[1., 1., 1., 1., 1.],\n",
       "       [1., 1., 1., 1., 1.],\n",
       "       [1., 1., 1., 1., 1.],\n",
       "       [1., 1., 1., 1., 1.]])"
      ]
     },
     "execution_count": 61,
     "metadata": {},
     "output_type": "execute_result"
    }
   ],
   "source": [
    "unos"
   ]
  },
  {
   "cell_type": "code",
   "execution_count": 62,
   "metadata": {},
   "outputs": [
    {
     "data": {
      "text/plain": [
       "array([[1., 1., 1., 1.],\n",
       "       [1., 1., 1., 1.],\n",
       "       [1., 1., 1., 1.],\n",
       "       [1., 1., 1., 1.],\n",
       "       [1., 1., 1., 1.]])"
      ]
     },
     "execution_count": 62,
     "metadata": {},
     "output_type": "execute_result"
    }
   ],
   "source": [
    "unos.T"
   ]
  },
  {
   "cell_type": "code",
   "execution_count": 64,
   "metadata": {},
   "outputs": [
    {
     "data": {
      "text/plain": [
       "array([1, 3, 5, 7, 9])"
      ]
     },
     "execution_count": 64,
     "metadata": {},
     "output_type": "execute_result"
    }
   ],
   "source": [
    "np.arange(1,10,2)"
   ]
  },
  {
   "cell_type": "code",
   "execution_count": 67,
   "metadata": {},
   "outputs": [
    {
     "data": {
      "text/plain": [
       "array([[ 1,  2,  3,  4],\n",
       "       [ 5,  6,  7,  8],\n",
       "       [ 9, 10, 11, 12],\n",
       "       [13, 14, 15, 16],\n",
       "       [17, 18, 19, 20]])"
      ]
     },
     "execution_count": 67,
     "metadata": {},
     "output_type": "execute_result"
    }
   ],
   "source": [
    "np.arange(1,21).reshape((5,4))"
   ]
  },
  {
   "cell_type": "code",
   "execution_count": 69,
   "metadata": {},
   "outputs": [
    {
     "ename": "ValueError",
     "evalue": "cannot reshape array of size 19 into shape (5,4)",
     "output_type": "error",
     "traceback": [
      "\u001b[1;31m---------------------------------------------------------------------------\u001b[0m",
      "\u001b[1;31mValueError\u001b[0m                                Traceback (most recent call last)",
      "\u001b[1;32m<ipython-input-69-f49528201dc1>\u001b[0m in \u001b[0;36m<module>\u001b[1;34m\u001b[0m\n\u001b[1;32m----> 1\u001b[1;33m \u001b[0mnp\u001b[0m\u001b[1;33m.\u001b[0m\u001b[0marange\u001b[0m\u001b[1;33m(\u001b[0m\u001b[1;36m1\u001b[0m\u001b[1;33m,\u001b[0m\u001b[1;36m20\u001b[0m\u001b[1;33m)\u001b[0m\u001b[1;33m.\u001b[0m\u001b[0mreshape\u001b[0m\u001b[1;33m(\u001b[0m\u001b[1;33m(\u001b[0m\u001b[1;36m5\u001b[0m\u001b[1;33m,\u001b[0m\u001b[1;36m4\u001b[0m\u001b[1;33m)\u001b[0m\u001b[1;33m)\u001b[0m\u001b[1;33m\u001b[0m\u001b[1;33m\u001b[0m\u001b[0m\n\u001b[0m",
      "\u001b[1;31mValueError\u001b[0m: cannot reshape array of size 19 into shape (5,4)"
     ]
    }
   ],
   "source": [
    "np.arange(1,20).reshape((5,4))"
   ]
  },
  {
   "cell_type": "code",
   "execution_count": 70,
   "metadata": {},
   "outputs": [],
   "source": [
    "mi_matriz2=np.arange(1,21).reshape((5,4))"
   ]
  },
  {
   "cell_type": "code",
   "execution_count": 71,
   "metadata": {},
   "outputs": [
    {
     "data": {
      "text/plain": [
       "array([[ 1,  2,  3,  4],\n",
       "       [ 5,  6,  7,  8],\n",
       "       [ 9, 10, 11, 12],\n",
       "       [13, 14, 15, 16],\n",
       "       [17, 18, 19, 20]])"
      ]
     },
     "execution_count": 71,
     "metadata": {},
     "output_type": "execute_result"
    }
   ],
   "source": [
    "mi_matriz2"
   ]
  },
  {
   "cell_type": "code",
   "execution_count": 72,
   "metadata": {},
   "outputs": [
    {
     "data": {
      "text/plain": [
       "array([[ 2,  4,  6,  8],\n",
       "       [10, 12, 14, 16],\n",
       "       [18, 20, 22, 24],\n",
       "       [26, 28, 30, 32],\n",
       "       [34, 36, 38, 40]])"
      ]
     },
     "execution_count": 72,
     "metadata": {},
     "output_type": "execute_result"
    }
   ],
   "source": [
    "mi_matriz2+mi_matriz2"
   ]
  },
  {
   "cell_type": "markdown",
   "metadata": {},
   "source": [
    "Operaciones elemento a elemento \"element wise\""
   ]
  },
  {
   "cell_type": "code",
   "execution_count": 73,
   "metadata": {},
   "outputs": [
    {
     "data": {
      "text/plain": [
       "array([[  1,   4,   9,  16],\n",
       "       [ 25,  36,  49,  64],\n",
       "       [ 81, 100, 121, 144],\n",
       "       [169, 196, 225, 256],\n",
       "       [289, 324, 361, 400]])"
      ]
     },
     "execution_count": 73,
     "metadata": {},
     "output_type": "execute_result"
    }
   ],
   "source": [
    "mi_matriz2*mi_matriz2"
   ]
  },
  {
   "cell_type": "code",
   "execution_count": 75,
   "metadata": {},
   "outputs": [
    {
     "data": {
      "text/plain": [
       "array([[  30,   70,  110,  150,  190],\n",
       "       [  70,  174,  278,  382,  486],\n",
       "       [ 110,  278,  446,  614,  782],\n",
       "       [ 150,  382,  614,  846, 1078],\n",
       "       [ 190,  486,  782, 1078, 1374]])"
      ]
     },
     "execution_count": 75,
     "metadata": {},
     "output_type": "execute_result"
    }
   ],
   "source": [
    "mi_matriz2.dot(mi_matriz2.T)"
   ]
  },
  {
   "cell_type": "code",
   "execution_count": 76,
   "metadata": {},
   "outputs": [
    {
     "data": {
      "text/plain": [
       "array([[ 1,  5,  9, 13, 17],\n",
       "       [ 2,  6, 10, 14, 18],\n",
       "       [ 3,  7, 11, 15, 19],\n",
       "       [ 4,  8, 12, 16, 20]])"
      ]
     },
     "execution_count": 76,
     "metadata": {},
     "output_type": "execute_result"
    }
   ],
   "source": [
    "mi_matriz2.T"
   ]
  },
  {
   "cell_type": "code",
   "execution_count": 77,
   "metadata": {},
   "outputs": [
    {
     "data": {
      "text/plain": [
       "array([[ 1,  2,  3,  4],\n",
       "       [ 5,  6,  7,  8],\n",
       "       [ 9, 10, 11, 12],\n",
       "       [13, 14, 15, 16],\n",
       "       [17, 18, 19, 20]])"
      ]
     },
     "execution_count": 77,
     "metadata": {},
     "output_type": "execute_result"
    }
   ],
   "source": [
    "mi_matriz2"
   ]
  },
  {
   "cell_type": "markdown",
   "metadata": {},
   "source": [
    "## Slicing"
   ]
  },
  {
   "cell_type": "code",
   "execution_count": 78,
   "metadata": {},
   "outputs": [],
   "source": [
    "mi_matriz3=np.arange(1,17).reshape((4,4))"
   ]
  },
  {
   "cell_type": "code",
   "execution_count": 79,
   "metadata": {},
   "outputs": [
    {
     "data": {
      "text/plain": [
       "array([[ 1,  2,  3,  4],\n",
       "       [ 5,  6,  7,  8],\n",
       "       [ 9, 10, 11, 12],\n",
       "       [13, 14, 15, 16]])"
      ]
     },
     "execution_count": 79,
     "metadata": {},
     "output_type": "execute_result"
    }
   ],
   "source": [
    "mi_matriz3"
   ]
  },
  {
   "cell_type": "code",
   "execution_count": 81,
   "metadata": {},
   "outputs": [
    {
     "data": {
      "text/plain": [
       "array([[1, 2, 3, 4],\n",
       "       [5, 6, 7, 8]])"
      ]
     },
     "execution_count": 81,
     "metadata": {},
     "output_type": "execute_result"
    }
   ],
   "source": [
    "mi_matriz3[0:2]"
   ]
  },
  {
   "cell_type": "code",
   "execution_count": 83,
   "metadata": {},
   "outputs": [
    {
     "data": {
      "text/plain": [
       "array([[ 5,  6,  7,  8],\n",
       "       [ 9, 10, 11, 12],\n",
       "       [13, 14, 15, 16]])"
      ]
     },
     "execution_count": 83,
     "metadata": {},
     "output_type": "execute_result"
    }
   ],
   "source": [
    "mi_matriz3[1:]"
   ]
  },
  {
   "cell_type": "code",
   "execution_count": 90,
   "metadata": {},
   "outputs": [
    {
     "data": {
      "text/plain": [
       "array([14, 15, 16])"
      ]
     },
     "execution_count": 90,
     "metadata": {},
     "output_type": "execute_result"
    }
   ],
   "source": [
    "mi_matriz3[-1,1:]"
   ]
  },
  {
   "cell_type": "code",
   "execution_count": 88,
   "metadata": {},
   "outputs": [
    {
     "data": {
      "text/plain": [
       "array([[ 5,  6,  7,  8],\n",
       "       [ 9, 10, 11, 12],\n",
       "       [13, 14, 15, 16]])"
      ]
     },
     "execution_count": 88,
     "metadata": {},
     "output_type": "execute_result"
    }
   ],
   "source": [
    "mi_matriz3[:][1:]"
   ]
  },
  {
   "cell_type": "code",
   "execution_count": 89,
   "metadata": {},
   "outputs": [
    {
     "data": {
      "text/plain": [
       "array([[ 1,  2,  3,  4],\n",
       "       [ 5,  6,  7,  8],\n",
       "       [ 9, 10, 11, 12],\n",
       "       [13, 14, 15, 16]])"
      ]
     },
     "execution_count": 89,
     "metadata": {},
     "output_type": "execute_result"
    }
   ],
   "source": [
    "mi_matriz3[:]"
   ]
  },
  {
   "cell_type": "code",
   "execution_count": 91,
   "metadata": {},
   "outputs": [
    {
     "data": {
      "text/plain": [
       "array([[ 1,  2,  3,  4],\n",
       "       [ 5,  6,  7,  8],\n",
       "       [ 9, 10, 11, 12],\n",
       "       [13, 14, 15, 16]])"
      ]
     },
     "execution_count": 91,
     "metadata": {},
     "output_type": "execute_result"
    }
   ],
   "source": [
    "mi_matriz3"
   ]
  },
  {
   "cell_type": "code",
   "execution_count": 92,
   "metadata": {},
   "outputs": [
    {
     "data": {
      "text/plain": [
       "array([[ 1,  2,  3,  4],\n",
       "       [ 5,  6,  7,  8],\n",
       "       [ 9, 10, 11, 12],\n",
       "       [13, 14, 15, 16]])"
      ]
     },
     "execution_count": 92,
     "metadata": {},
     "output_type": "execute_result"
    }
   ],
   "source": [
    "mi_matriz3"
   ]
  },
  {
   "cell_type": "raw",
   "metadata": {},
   "source": [
    "Ejercicio\n",
    "\n",
    "Seleccionar filas pares y columnas pares"
   ]
  },
  {
   "cell_type": "code",
   "execution_count": 95,
   "metadata": {},
   "outputs": [
    {
     "data": {
      "text/plain": [
       "array([ 6, 16])"
      ]
     },
     "execution_count": 95,
     "metadata": {},
     "output_type": "execute_result"
    }
   ],
   "source": [
    "mi_matriz3[range(1,mi_matriz3.shape[0],2),range(1,mi_matriz3.shape[1],2)]"
   ]
  },
  {
   "cell_type": "code",
   "execution_count": 94,
   "metadata": {},
   "outputs": [
    {
     "data": {
      "text/plain": [
       "[[6, 8], [14, 16]]"
      ]
     },
     "execution_count": 94,
     "metadata": {},
     "output_type": "execute_result"
    }
   ],
   "source": [
    "[[6,8],[14,16]]"
   ]
  },
  {
   "cell_type": "code",
   "execution_count": 99,
   "metadata": {},
   "outputs": [
    {
     "data": {
      "text/plain": [
       "[1, 3]"
      ]
     },
     "execution_count": 99,
     "metadata": {},
     "output_type": "execute_result"
    }
   ],
   "source": [
    "list(range(1,mi_matriz3.shape[0],2))"
   ]
  },
  {
   "cell_type": "code",
   "execution_count": 98,
   "metadata": {},
   "outputs": [
    {
     "data": {
      "text/plain": [
       "array([[ 5,  6,  7,  8],\n",
       "       [13, 14, 15, 16]])"
      ]
     },
     "execution_count": 98,
     "metadata": {},
     "output_type": "execute_result"
    }
   ],
   "source": [
    "mi_matriz3[range(1,mi_matriz3.shape[0],2),:]"
   ]
  },
  {
   "cell_type": "code",
   "execution_count": 100,
   "metadata": {},
   "outputs": [
    {
     "data": {
      "text/plain": [
       "array([[ 6,  8],\n",
       "       [14, 16]])"
      ]
     },
     "execution_count": 100,
     "metadata": {},
     "output_type": "execute_result"
    }
   ],
   "source": [
    "mi_matriz3[1::2,1::2]"
   ]
  },
  {
   "cell_type": "markdown",
   "metadata": {},
   "source": [
    "# Ejercicio avanzado.\n",
    "\n",
    "Seleccionar las 4 esquinas con slicing"
   ]
  },
  {
   "cell_type": "markdown",
   "metadata": {},
   "source": [
    "Cálculo de la inversa y el determinante"
   ]
  },
  {
   "cell_type": "code",
   "execution_count": 111,
   "metadata": {},
   "outputs": [],
   "source": [
    "mi_matriz3[0,0]=5"
   ]
  },
  {
   "cell_type": "code",
   "execution_count": 112,
   "metadata": {},
   "outputs": [
    {
     "data": {
      "text/plain": [
       "array([[ 5,  2,  3,  4],\n",
       "       [ 5,  6,  7,  8],\n",
       "       [ 9, 10, 11, 12],\n",
       "       [13, 14, 15, 16]])"
      ]
     },
     "execution_count": 112,
     "metadata": {},
     "output_type": "execute_result"
    }
   ],
   "source": [
    "mi_matriz3"
   ]
  },
  {
   "cell_type": "code",
   "execution_count": 113,
   "metadata": {},
   "outputs": [
    {
     "data": {
      "text/plain": [
       "array([[ 2.50000000e-01, -3.07692308e-01, -6.15384615e-01,\n",
       "         1.53846154e-01],\n",
       "       [-1.20000000e+00,  4.95395959e+15, -9.90791918e+15,\n",
       "         4.95395959e+15],\n",
       "       [ 1.65000000e+00, -9.90791918e+15,  1.98158384e+16,\n",
       "        -9.90791918e+15],\n",
       "       [-7.00000000e-01,  4.95395959e+15, -9.90791918e+15,\n",
       "         4.95395959e+15]])"
      ]
     },
     "execution_count": 113,
     "metadata": {},
     "output_type": "execute_result"
    }
   ],
   "source": [
    "np.linalg.inv(mi_matriz3)"
   ]
  },
  {
   "cell_type": "code",
   "execution_count": 114,
   "metadata": {},
   "outputs": [
    {
     "data": {
      "text/plain": [
       "array([[ 1,  0,  0,  0],\n",
       "       [ 0, -8, 16,  0],\n",
       "       [ 0, 16,  0,  0],\n",
       "       [ 0,  0,  0,  0]])"
      ]
     },
     "execution_count": 114,
     "metadata": {},
     "output_type": "execute_result"
    }
   ],
   "source": [
    "mi_matriz3.dot(np.linalg.inv(mi_matriz3)).astype(int)"
   ]
  },
  {
   "cell_type": "code",
   "execution_count": 115,
   "metadata": {},
   "outputs": [
    {
     "data": {
      "text/plain": [
       "-3.2297397080004505e-15"
      ]
     },
     "execution_count": 115,
     "metadata": {},
     "output_type": "execute_result"
    }
   ],
   "source": [
    "np.linalg.det(mi_matriz3)"
   ]
  },
  {
   "cell_type": "markdown",
   "metadata": {},
   "source": [
    "# Indexado booleano"
   ]
  },
  {
   "cell_type": "code",
   "execution_count": 116,
   "metadata": {},
   "outputs": [
    {
     "data": {
      "text/plain": [
       "array([4, 7, 9, 2, 5, 6])"
      ]
     },
     "execution_count": 116,
     "metadata": {},
     "output_type": "execute_result"
    }
   ],
   "source": [
    "mi_vector"
   ]
  },
  {
   "cell_type": "code",
   "execution_count": 117,
   "metadata": {},
   "outputs": [
    {
     "data": {
      "text/plain": [
       "array([False,  True, False, False, False, False])"
      ]
     },
     "execution_count": 117,
     "metadata": {},
     "output_type": "execute_result"
    }
   ],
   "source": [
    "mi_vector==7"
   ]
  },
  {
   "cell_type": "code",
   "execution_count": 118,
   "metadata": {},
   "outputs": [
    {
     "data": {
      "text/plain": [
       "array([ True,  True,  True, False,  True,  True])"
      ]
     },
     "execution_count": 118,
     "metadata": {},
     "output_type": "execute_result"
    }
   ],
   "source": [
    "mi_vector>3"
   ]
  },
  {
   "cell_type": "code",
   "execution_count": 119,
   "metadata": {},
   "outputs": [
    {
     "data": {
      "text/plain": [
       "array([[ True, False, False,  True],\n",
       "       [ True,  True,  True,  True],\n",
       "       [ True,  True,  True,  True],\n",
       "       [ True,  True,  True,  True]])"
      ]
     },
     "execution_count": 119,
     "metadata": {},
     "output_type": "execute_result"
    }
   ],
   "source": [
    "mi_matriz3>3"
   ]
  },
  {
   "cell_type": "code",
   "execution_count": 120,
   "metadata": {},
   "outputs": [
    {
     "data": {
      "text/plain": [
       "array([[ 5,  2,  3,  4],\n",
       "       [ 5,  6,  7,  8],\n",
       "       [ 9, 10, 11, 12],\n",
       "       [13, 14, 15, 16]])"
      ]
     },
     "execution_count": 120,
     "metadata": {},
     "output_type": "execute_result"
    }
   ],
   "source": [
    "mi_matriz3"
   ]
  },
  {
   "cell_type": "code",
   "execution_count": 122,
   "metadata": {},
   "outputs": [
    {
     "data": {
      "text/plain": [
       "array([7])"
      ]
     },
     "execution_count": 122,
     "metadata": {},
     "output_type": "execute_result"
    }
   ],
   "source": [
    "mi_vector[[False,  True, False, False, False, False]]"
   ]
  },
  {
   "cell_type": "code",
   "execution_count": 123,
   "metadata": {},
   "outputs": [
    {
     "data": {
      "text/plain": [
       "array([7, 9])"
      ]
     },
     "execution_count": 123,
     "metadata": {},
     "output_type": "execute_result"
    }
   ],
   "source": [
    "mi_vector[mi_vector>6]"
   ]
  },
  {
   "cell_type": "code",
   "execution_count": 124,
   "metadata": {},
   "outputs": [
    {
     "data": {
      "text/plain": [
       "array([False,  True,  True, False, False, False])"
      ]
     },
     "execution_count": 124,
     "metadata": {},
     "output_type": "execute_result"
    }
   ],
   "source": [
    "mi_vector>6"
   ]
  },
  {
   "cell_type": "code",
   "execution_count": 125,
   "metadata": {},
   "outputs": [
    {
     "data": {
      "text/plain": [
       "array([7, 9])"
      ]
     },
     "execution_count": 125,
     "metadata": {},
     "output_type": "execute_result"
    }
   ],
   "source": [
    "mi_vector[np.array([False,  True,  True, False, False, False])]"
   ]
  },
  {
   "cell_type": "code",
   "execution_count": 126,
   "metadata": {},
   "outputs": [
    {
     "data": {
      "text/plain": [
       "array([[ 5,  2,  3,  4],\n",
       "       [ 5,  6,  7,  8],\n",
       "       [ 9, 10, 11, 12],\n",
       "       [13, 14, 15, 16]])"
      ]
     },
     "execution_count": 126,
     "metadata": {},
     "output_type": "execute_result"
    }
   ],
   "source": [
    "mi_matriz3"
   ]
  },
  {
   "cell_type": "code",
   "execution_count": 128,
   "metadata": {},
   "outputs": [
    {
     "data": {
      "text/plain": [
       "array([ 9, 10, 11, 12, 13, 14, 15, 16])"
      ]
     },
     "execution_count": 128,
     "metadata": {},
     "output_type": "execute_result"
    }
   ],
   "source": [
    "mi_matriz3[mi_matriz3>8]"
   ]
  },
  {
   "cell_type": "markdown",
   "metadata": {},
   "source": [
    "## Concatener arrays y matrices: axis\n",
    "\n",
    "axis equivale a columnas o a filas.\n",
    "axis toma 0 ó 1\n",
    "\n",
    "axis 0 es filas y 1 columnas"
   ]
  },
  {
   "cell_type": "code",
   "execution_count": 129,
   "metadata": {},
   "outputs": [
    {
     "data": {
      "text/plain": [
       "array([[ 1,  2,  3,  4],\n",
       "       [ 5,  6,  7,  8],\n",
       "       [ 9, 10, 11, 12],\n",
       "       [13, 14, 15, 16],\n",
       "       [17, 18, 19, 20]])"
      ]
     },
     "execution_count": 129,
     "metadata": {},
     "output_type": "execute_result"
    }
   ],
   "source": [
    "mi_matriz2"
   ]
  },
  {
   "cell_type": "code",
   "execution_count": 130,
   "metadata": {},
   "outputs": [
    {
     "data": {
      "text/plain": [
       "(5, 4)"
      ]
     },
     "execution_count": 130,
     "metadata": {},
     "output_type": "execute_result"
    }
   ],
   "source": [
    "mi_matriz2.shape"
   ]
  },
  {
   "cell_type": "code",
   "execution_count": 131,
   "metadata": {},
   "outputs": [
    {
     "data": {
      "text/plain": [
       "array([[ 1,  2,  3,  4],\n",
       "       [ 5,  6,  7,  8],\n",
       "       [ 9, 10, 11, 12],\n",
       "       [13, 14, 15, 16],\n",
       "       [17, 18, 19, 20],\n",
       "       [ 1,  2,  3,  4],\n",
       "       [ 5,  6,  7,  8],\n",
       "       [ 9, 10, 11, 12],\n",
       "       [13, 14, 15, 16],\n",
       "       [17, 18, 19, 20]])"
      ]
     },
     "execution_count": 131,
     "metadata": {},
     "output_type": "execute_result"
    }
   ],
   "source": [
    "np.concatenate((mi_matriz2,mi_matriz2))"
   ]
  },
  {
   "cell_type": "code",
   "execution_count": 132,
   "metadata": {},
   "outputs": [
    {
     "data": {
      "text/plain": [
       "array([[ 1,  2,  3,  4,  1,  2,  3,  4],\n",
       "       [ 5,  6,  7,  8,  5,  6,  7,  8],\n",
       "       [ 9, 10, 11, 12,  9, 10, 11, 12],\n",
       "       [13, 14, 15, 16, 13, 14, 15, 16],\n",
       "       [17, 18, 19, 20, 17, 18, 19, 20]])"
      ]
     },
     "execution_count": 132,
     "metadata": {},
     "output_type": "execute_result"
    }
   ],
   "source": [
    "np.concatenate((mi_matriz2,mi_matriz2),axis=1)"
   ]
  },
  {
   "cell_type": "code",
   "execution_count": 133,
   "metadata": {},
   "outputs": [
    {
     "data": {
      "text/plain": [
       "array([[ 1,  2,  3,  4],\n",
       "       [ 5,  6,  7,  8],\n",
       "       [ 9, 10, 11, 12],\n",
       "       [13, 14, 15, 16],\n",
       "       [17, 18, 19, 20]])"
      ]
     },
     "execution_count": 133,
     "metadata": {},
     "output_type": "execute_result"
    }
   ],
   "source": [
    "mi_matriz2"
   ]
  },
  {
   "cell_type": "code",
   "execution_count": 137,
   "metadata": {},
   "outputs": [
    {
     "data": {
      "text/plain": [
       "array([40, 41, 42, 43, 44])"
      ]
     },
     "execution_count": 137,
     "metadata": {},
     "output_type": "execute_result"
    }
   ],
   "source": [
    "mi_vector3=np.arange(40,45)\n",
    "mi_vector3"
   ]
  },
  {
   "cell_type": "code",
   "execution_count": 138,
   "metadata": {},
   "outputs": [
    {
     "ename": "ValueError",
     "evalue": "all the input arrays must have same number of dimensions, but the array at index 0 has 2 dimension(s) and the array at index 1 has 1 dimension(s)",
     "output_type": "error",
     "traceback": [
      "\u001b[1;31m---------------------------------------------------------------------------\u001b[0m",
      "\u001b[1;31mValueError\u001b[0m                                Traceback (most recent call last)",
      "\u001b[1;32m<ipython-input-138-0eb7dc13ba3a>\u001b[0m in \u001b[0;36m<module>\u001b[1;34m\u001b[0m\n\u001b[1;32m----> 1\u001b[1;33m \u001b[0mnp\u001b[0m\u001b[1;33m.\u001b[0m\u001b[0mconcatenate\u001b[0m\u001b[1;33m(\u001b[0m\u001b[1;33m(\u001b[0m\u001b[0mmi_matriz2\u001b[0m\u001b[1;33m,\u001b[0m\u001b[0mmi_vector3\u001b[0m\u001b[1;33m)\u001b[0m\u001b[1;33m,\u001b[0m\u001b[0maxis\u001b[0m\u001b[1;33m=\u001b[0m\u001b[1;36m1\u001b[0m\u001b[1;33m)\u001b[0m\u001b[1;33m\u001b[0m\u001b[1;33m\u001b[0m\u001b[0m\n\u001b[0m",
      "\u001b[1;32m<__array_function__ internals>\u001b[0m in \u001b[0;36mconcatenate\u001b[1;34m(*args, **kwargs)\u001b[0m\n",
      "\u001b[1;31mValueError\u001b[0m: all the input arrays must have same number of dimensions, but the array at index 0 has 2 dimension(s) and the array at index 1 has 1 dimension(s)"
     ]
    }
   ],
   "source": [
    "np.concatenate((mi_matriz2,mi_vector3),axis=1)"
   ]
  },
  {
   "cell_type": "code",
   "execution_count": 139,
   "metadata": {},
   "outputs": [
    {
     "name": "stdout",
     "output_type": "stream",
     "text": [
      "(5, 4)\n",
      "(5,)\n"
     ]
    }
   ],
   "source": [
    "print(mi_matriz2.shape)\n",
    "print(mi_vector3.shape)"
   ]
  },
  {
   "cell_type": "code",
   "execution_count": 140,
   "metadata": {},
   "outputs": [
    {
     "data": {
      "text/plain": [
       "array([[ 1,  2,  3,  4, 40],\n",
       "       [ 5,  6,  7,  8, 41],\n",
       "       [ 9, 10, 11, 12, 42],\n",
       "       [13, 14, 15, 16, 43],\n",
       "       [17, 18, 19, 20, 44]])"
      ]
     },
     "execution_count": 140,
     "metadata": {},
     "output_type": "execute_result"
    }
   ],
   "source": [
    "np.concatenate((mi_matriz2,mi_vector3.reshape(5,1)),axis=1)"
   ]
  },
  {
   "cell_type": "code",
   "execution_count": 145,
   "metadata": {},
   "outputs": [
    {
     "data": {
      "text/plain": [
       "array([[ 1,  2,  3,  4],\n",
       "       [ 5,  6,  7,  8],\n",
       "       [ 9, 10, 11, 12],\n",
       "       [13, 14, 15, 16],\n",
       "       [17, 18, 19, 20],\n",
       "       [41, 42, 43, 44]])"
      ]
     },
     "execution_count": 145,
     "metadata": {},
     "output_type": "execute_result"
    }
   ],
   "source": [
    "np.concatenate((mi_matriz2,mi_vector3[1:].reshape(1,4)),axis=0)"
   ]
  },
  {
   "cell_type": "code",
   "execution_count": 143,
   "metadata": {},
   "outputs": [
    {
     "data": {
      "text/plain": [
       "array([[ 1,  2,  3,  4],\n",
       "       [ 5,  6,  7,  8],\n",
       "       [ 9, 10, 11, 12],\n",
       "       [13, 14, 15, 16],\n",
       "       [17, 18, 19, 20]])"
      ]
     },
     "execution_count": 143,
     "metadata": {},
     "output_type": "execute_result"
    }
   ],
   "source": [
    "mi_matriz2"
   ]
  },
  {
   "cell_type": "code",
   "execution_count": 146,
   "metadata": {},
   "outputs": [
    {
     "data": {
      "text/plain": [
       "array([40, 41, 42, 43, 44])"
      ]
     },
     "execution_count": 146,
     "metadata": {},
     "output_type": "execute_result"
    }
   ],
   "source": [
    "mi_vector3"
   ]
  },
  {
   "cell_type": "code",
   "execution_count": 147,
   "metadata": {},
   "outputs": [
    {
     "data": {
      "text/plain": [
       "array([41, 42, 43, 44])"
      ]
     },
     "execution_count": 147,
     "metadata": {},
     "output_type": "execute_result"
    }
   ],
   "source": [
    "mi_vector3[1:]"
   ]
  },
  {
   "cell_type": "code",
   "execution_count": 148,
   "metadata": {},
   "outputs": [
    {
     "data": {
      "text/plain": [
       "array([[41, 42, 43, 44]])"
      ]
     },
     "execution_count": 148,
     "metadata": {},
     "output_type": "execute_result"
    }
   ],
   "source": [
    "mi_vector3[1:].reshape(1,4)"
   ]
  },
  {
   "cell_type": "markdown",
   "metadata": {},
   "source": [
    "Cómo generar números aleatorios\n"
   ]
  },
  {
   "cell_type": "code",
   "execution_count": 149,
   "metadata": {},
   "outputs": [
    {
     "data": {
      "text/plain": [
       "array([[ 1.20859701e+00, -1.00174380e+00,  3.06728738e-01,\n",
       "        -6.24189975e-02,  9.35609130e-01, -8.78627960e-01,\n",
       "        -1.53724970e-01,  3.56686275e-01,  1.49120508e+00,\n",
       "        -8.07757892e-01],\n",
       "       [-4.33095070e-01, -2.49238220e-01, -8.91340041e-01,\n",
       "        -1.27427882e+00,  1.05954647e+00, -3.47589426e-01,\n",
       "         9.62500566e-01, -5.27654805e-01,  5.17514648e-01,\n",
       "         1.47731251e+00],\n",
       "       [ 4.74167912e-01, -1.38072907e-01,  6.29878672e-02,\n",
       "         8.50953618e-01,  8.87417322e-01, -1.05617265e+00,\n",
       "        -2.12977894e-01, -7.52874010e-01,  9.53582325e-01,\n",
       "         6.85350783e-01],\n",
       "       [ 6.78041349e-01, -8.50099157e-01,  5.49099046e-02,\n",
       "        -3.52272512e-01, -1.57569059e+00, -1.52180265e+00,\n",
       "         1.70596244e-01,  7.21372266e-01,  1.17945640e-02,\n",
       "        -1.56803415e+00],\n",
       "       [ 2.21474367e-02, -3.45717346e-01,  1.25047263e-01,\n",
       "         7.69609602e-02,  7.68377477e-01,  3.54128747e-01,\n",
       "         1.77147173e+00,  2.41605547e-01, -4.23470551e-01,\n",
       "        -5.14923962e-01],\n",
       "       [-2.64598139e-01,  5.70138471e-01, -5.61428292e-01,\n",
       "         2.51794972e-02, -2.26895259e-01, -1.96886127e+00,\n",
       "         2.36683027e+00, -5.22573943e-02,  1.12667091e+00,\n",
       "         6.20541644e-01],\n",
       "       [-5.27004165e-01, -2.76762130e-02, -4.27746925e-01,\n",
       "         3.81847230e-02, -1.45012335e+00,  6.71639276e-01,\n",
       "        -1.83278914e-01, -1.09434854e+00, -4.07726604e-01,\n",
       "         1.22853942e-01],\n",
       "       [ 1.46851422e+00, -5.96316911e-01, -3.06186251e+00,\n",
       "        -6.29020909e-01,  1.01176797e+00,  1.73625069e+00,\n",
       "         4.37423809e-01, -1.84750237e+00,  2.32913016e+00,\n",
       "        -1.73674590e+00],\n",
       "       [ 5.80950998e-01,  1.12473025e-01,  1.94153416e+00,\n",
       "         1.11467491e+00, -1.28055246e-01,  1.68710227e+00,\n",
       "         8.02376573e-01,  4.31035865e-01,  1.16230032e+00,\n",
       "         2.32551742e-01],\n",
       "       [ 4.17048192e-01, -1.18475113e+00,  1.56796788e+00,\n",
       "        -1.21122213e-01, -6.10931968e-01, -8.53807562e-01,\n",
       "        -6.23469459e-01,  1.77193366e+00,  9.17969187e-01,\n",
       "        -1.38688209e+00],\n",
       "       [ 5.09519736e-02,  7.01202697e-01, -8.53782201e-01,\n",
       "         4.96134830e-01, -1.50307970e+00, -8.48797900e-01,\n",
       "         7.45742623e-01,  6.72082081e-01,  1.26567965e+00,\n",
       "        -1.47030113e-01],\n",
       "       [-1.63991067e+00,  8.99657335e-01, -8.49006446e-01,\n",
       "        -1.65180312e-01,  1.63149490e+00,  2.21004363e+00,\n",
       "         7.77304838e-01, -2.49362850e-01,  8.47953893e-02,\n",
       "         1.52093174e+00],\n",
       "       [-4.05074754e-02, -1.62840267e+00,  5.48301128e-01,\n",
       "        -8.69388478e-01, -1.68415965e+00, -2.90872172e-01,\n",
       "        -1.31964149e-01, -4.11200181e-01, -2.85112314e-01,\n",
       "         2.69650445e-01],\n",
       "       [-8.61211634e-01, -3.31416445e-01, -2.08897624e+00,\n",
       "         5.38887241e-02, -7.13755921e-02,  2.85031558e-02,\n",
       "         7.47280766e-01, -1.08704350e+00,  2.32845562e-02,\n",
       "         1.34633606e+00],\n",
       "       [ 1.52777964e+00, -1.77262759e+00,  4.27711594e-01,\n",
       "         1.20562493e+00,  1.44504729e+00, -6.75858620e-02,\n",
       "         1.44409514e+00,  1.95846533e+00, -6.31855681e-01,\n",
       "        -4.35389970e-01],\n",
       "       [-3.53515403e-01, -2.93625664e-01,  1.65036023e+00,\n",
       "        -2.52773711e-01, -1.11319526e+00,  6.25379072e-02,\n",
       "        -5.50161740e-01, -8.92228212e-02,  1.02997390e+00,\n",
       "        -1.20921054e-01],\n",
       "       [ 2.08054780e-01, -1.65700223e+00, -5.49722678e-01,\n",
       "        -1.04745111e+00, -4.88227059e-01, -1.85467641e+00,\n",
       "        -5.92837068e-01,  1.44771512e-01,  9.49107866e-01,\n",
       "         1.14795451e-01],\n",
       "       [-2.31456001e-01, -1.42771130e+00,  6.18697951e-02,\n",
       "        -1.05850252e+00,  6.02451340e-02,  5.03412770e-01,\n",
       "        -7.90367553e-01,  1.01244856e-01, -1.37549704e+00,\n",
       "        -5.45086666e-01],\n",
       "       [ 5.63327290e-01, -4.49933540e-01,  1.44617911e+00,\n",
       "        -5.57557832e-01,  1.92038910e-01,  2.10398461e-01,\n",
       "         7.01199406e-01, -1.09373209e+00, -8.28159189e-02,\n",
       "        -1.88094900e+00],\n",
       "       [-9.18622920e-01, -1.38382609e+00, -1.22823620e+00,\n",
       "         1.47414311e+00, -1.32416974e+00, -6.00923811e-01,\n",
       "        -2.61728578e-02, -3.20325064e-01, -7.01057127e-01,\n",
       "         2.05744727e+00],\n",
       "       [-4.90128820e-02,  6.16080746e-01, -2.12828453e+00,\n",
       "        -3.14293479e-01,  8.94278285e-01,  1.11938121e+00,\n",
       "        -7.05123535e-01,  4.68805744e-02, -7.26983020e-01,\n",
       "        -7.94016451e-01],\n",
       "       [ 6.65983275e-01,  2.43480916e-01,  8.28045023e-01,\n",
       "         1.41887064e+00,  1.61816867e+00,  3.83035825e-01,\n",
       "        -9.72523603e-01, -1.21542332e+00, -5.03699826e-01,\n",
       "        -7.27243058e-01],\n",
       "       [ 8.08715268e-01, -2.20612347e+00,  2.58250061e-01,\n",
       "         1.83768425e+00,  4.77337026e-02, -1.19166559e+00,\n",
       "        -1.53184716e+00,  1.52093356e+00, -1.86293390e-02,\n",
       "         2.76137762e-01],\n",
       "       [ 8.31859632e-01,  7.33874827e-01,  1.79419670e+00,\n",
       "         3.81003825e-01, -1.16472209e+00, -4.33278716e-02,\n",
       "        -1.48261784e+00, -2.07583757e+00, -1.27185300e+00,\n",
       "         3.20608085e-01],\n",
       "       [ 9.70193748e-01,  1.46456248e+00,  9.76100139e-01,\n",
       "         1.02460251e+00,  1.07788296e+00,  6.44708249e-01,\n",
       "        -3.52722700e-02, -9.27088071e-01,  1.94665759e+00,\n",
       "        -1.57038954e+00],\n",
       "       [ 7.55891255e-01,  5.56760811e-01, -8.28512649e-01,\n",
       "         2.99492146e-01,  1.03960886e+00,  8.04635435e-01,\n",
       "        -1.07965047e+00, -4.99913680e-01, -1.75904120e+00,\n",
       "         5.50432597e-01],\n",
       "       [-9.76044968e-01, -2.26300647e+00, -1.47594045e+00,\n",
       "         3.94415571e-01, -7.95887706e-01, -1.20067638e+00,\n",
       "        -8.23325458e-01,  7.09985885e-01, -9.99450268e-01,\n",
       "        -8.25459517e-01],\n",
       "       [ 1.03412242e-01,  9.93339514e-01,  2.23795074e-01,\n",
       "         8.79013753e-01,  3.95847061e-01, -1.10167187e+00,\n",
       "         2.85007122e-01, -4.18079136e-01,  2.38458707e+00,\n",
       "         2.11122603e-02],\n",
       "       [ 4.12335062e-01, -1.66203333e+00, -1.06740937e+00,\n",
       "        -6.34421849e-01,  1.91304946e+00,  4.66519963e-01,\n",
       "         6.86633632e-01, -5.57580319e-01, -1.32511299e+00,\n",
       "         7.26732013e-01],\n",
       "       [-1.29404805e+00,  1.12715812e+00, -5.70185977e-01,\n",
       "        -6.04356241e-01,  1.65526129e+00, -6.86538824e-01,\n",
       "        -2.40910133e-01, -1.40502187e-01, -3.89801769e-01,\n",
       "         9.41823742e-02],\n",
       "       [-8.02626495e-01, -1.96371242e+00,  2.29524504e-01,\n",
       "         2.32335478e-01,  6.61810552e-01, -1.93202413e+00,\n",
       "         1.20619575e+00,  1.11870652e+00,  1.96407212e+00,\n",
       "        -8.39166943e-01],\n",
       "       [ 4.07714781e-01,  1.16823780e+00,  2.67464644e-01,\n",
       "         1.33277848e+00, -1.22179937e+00, -3.40668097e-01,\n",
       "        -1.11037478e+00,  5.92966871e-01, -1.40613019e+00,\n",
       "         8.74299457e-01],\n",
       "       [-7.71083631e-01,  1.08985588e+00, -9.08358639e-01,\n",
       "         7.85169906e-01,  5.98397235e-01,  1.22734595e-01,\n",
       "         5.48622458e-01,  7.56442837e-02, -8.90825129e-01,\n",
       "        -1.27466992e+00],\n",
       "       [-8.64908111e-01, -8.41165535e-01,  1.20524961e+00,\n",
       "        -9.54524271e-01, -8.92904286e-02,  3.38448555e-01,\n",
       "        -1.20157291e+00, -1.25873140e+00, -1.40548386e+00,\n",
       "        -1.44317922e-02],\n",
       "       [ 1.85081182e-01, -5.08018936e-01, -1.56604287e+00,\n",
       "         4.22509786e-01, -4.48796630e-02,  1.52507705e+00,\n",
       "         1.39502948e+00,  2.12647228e+00,  1.61834071e-01,\n",
       "         7.11213255e-01],\n",
       "       [ 5.06774291e-01, -2.43163591e+00, -1.26303244e-01,\n",
       "         5.64721040e-01, -5.65964397e-01,  1.11806047e-01,\n",
       "        -5.30114485e-01, -4.72941354e-01,  4.07997592e-01,\n",
       "        -1.88371942e+00],\n",
       "       [ 2.53512766e+00,  7.63509977e-01, -7.10868624e-01,\n",
       "        -7.11650140e-01,  1.52608606e+00,  1.09454842e+00,\n",
       "        -1.00530473e+00,  1.20746980e+00,  2.03821048e-01,\n",
       "        -8.99448314e-02],\n",
       "       [ 2.07721679e+00,  1.67570177e+00,  1.43044185e+00,\n",
       "        -6.08281208e-01,  1.36375291e+00,  1.83285548e+00,\n",
       "         2.81208839e-01, -1.65953299e+00,  7.79757701e-01,\n",
       "         2.28061500e+00],\n",
       "       [ 1.03892594e+00, -1.64251576e+00, -2.18363271e-03,\n",
       "        -5.40540432e-01, -1.59377494e+00, -1.64111848e+00,\n",
       "         1.00109359e+00, -1.55785533e+00, -2.74222528e-01,\n",
       "         1.35761946e-01],\n",
       "       [-1.96149139e+00, -1.10479826e-01,  3.29560848e-01,\n",
       "        -8.77284346e-01,  1.86010225e-01, -1.66625759e+00,\n",
       "         4.38082380e-01,  1.65168044e+00, -1.82814342e-01,\n",
       "        -2.82969534e-01],\n",
       "       [ 1.11739401e+00,  8.59175881e-02, -1.09094772e-02,\n",
       "         1.26069380e+00, -1.65348253e+00, -3.20065344e-02,\n",
       "         1.92863704e-01, -1.63875232e-02,  1.67306761e-01,\n",
       "         9.61922677e-01],\n",
       "       [-2.04319087e-02, -7.83999950e-01,  2.75553308e+00,\n",
       "        -3.63052607e-01,  1.63065736e+00,  5.05915640e-01,\n",
       "         1.01049992e+00,  1.68168135e+00, -2.46011373e-02,\n",
       "         3.12469626e-01],\n",
       "       [-1.64532585e+00,  1.25969042e-02, -9.76630424e-01,\n",
       "        -1.06468464e+00,  3.58139797e-02,  4.24250592e-01,\n",
       "        -1.48147150e+00,  6.24189108e-01, -1.34998932e+00,\n",
       "        -1.65679097e+00],\n",
       "       [ 9.31022025e-01,  6.79637867e-01,  2.32117444e-02,\n",
       "         3.59047366e-01,  3.47266470e-01, -1.68491535e+00,\n",
       "        -4.08328408e-01,  1.53188525e+00,  1.30322809e+00,\n",
       "        -2.32658824e+00],\n",
       "       [ 2.58373478e-01,  4.92078523e-01, -1.26180128e+00,\n",
       "         6.86877494e-01, -8.89888967e-01, -2.19909006e-01,\n",
       "        -4.99355220e-01,  9.06100239e-01,  7.10094207e-01,\n",
       "         4.62158724e-01],\n",
       "       [-1.63162195e+00,  1.35299665e-01,  1.16868634e-01,\n",
       "         2.84022345e-01, -1.82268026e-01, -9.98189779e-01,\n",
       "         5.67137913e-01, -1.18899904e-01,  5.88475825e-01,\n",
       "        -2.78150665e-01],\n",
       "       [-5.60837124e-01,  1.90264173e+00, -1.16810595e+00,\n",
       "         2.19589904e+00, -3.22353504e-01,  3.20179091e-02,\n",
       "        -7.80580645e-01, -3.43199782e-01,  8.24169904e-01,\n",
       "         1.34980400e+00],\n",
       "       [-2.13119790e-01, -1.28019117e+00,  4.26840389e-02,\n",
       "         1.64652636e-01, -1.48208310e+00, -5.56919599e-01,\n",
       "         1.55838489e+00, -1.97764609e+00, -1.70776320e-01,\n",
       "         7.50008859e-01],\n",
       "       [-7.79552405e-01, -5.06327614e-01,  6.64675323e-01,\n",
       "         1.69534946e-01, -3.90817232e-01,  4.67837112e-01,\n",
       "         5.34119220e-01, -2.14498224e+00,  4.55554291e-01,\n",
       "        -1.81331317e+00],\n",
       "       [-4.99451623e-01, -4.33633370e-01, -6.98314039e-01,\n",
       "         8.08652557e-01, -1.06890469e+00,  1.97495707e-01,\n",
       "         1.33267046e-01,  1.23314100e+00,  8.10939355e-01,\n",
       "         2.99348136e-01],\n",
       "       [ 7.77409417e-01, -2.73113859e-01, -3.11735973e-01,\n",
       "        -2.73925516e-02,  6.10349187e-01, -3.36183321e-02,\n",
       "        -3.48679436e-01, -2.02449482e-01,  8.90862835e-01,\n",
       "        -2.04404883e-01],\n",
       "       [-4.65128900e-01, -7.95156723e-02, -5.22246459e-01,\n",
       "        -1.04583786e+00,  2.19291208e+00,  1.49925690e+00,\n",
       "         4.41721090e-01, -6.23902612e-02,  5.60234835e-01,\n",
       "         4.68172812e-01],\n",
       "       [-1.21782158e+00, -5.69112774e-01, -2.86491348e-01,\n",
       "         7.65025416e-02,  5.38082955e-01,  4.35512525e-01,\n",
       "        -6.69434384e-02,  9.11350364e-01, -1.76420303e-01,\n",
       "        -9.11131598e-01],\n",
       "       [-5.67607709e-01,  8.78367625e-01, -2.98449173e-01,\n",
       "        -5.77322028e-01, -4.20358716e-01, -8.64753843e-01,\n",
       "         7.93622013e-01, -5.12658075e-01, -1.18929589e+00,\n",
       "        -5.18837043e-02],\n",
       "       [ 8.96550766e-02, -1.13238820e+00,  3.94865817e-01,\n",
       "         1.64716272e+00, -1.33230958e-01,  1.13298377e+00,\n",
       "        -8.78717495e-01, -3.37071944e-01, -1.10418417e+00,\n",
       "        -1.69728400e+00],\n",
       "       [ 8.11155508e-01,  1.04077515e+00,  9.58792846e-01,\n",
       "         7.54015235e-01,  6.66435289e-01, -2.06695721e-01,\n",
       "         1.00108405e+00,  7.36320653e-01, -6.55257444e-01,\n",
       "        -7.40862014e-01],\n",
       "       [-5.14191199e-01,  8.55468126e-01,  8.92190332e-01,\n",
       "        -3.47938693e-02, -1.00010055e+00,  5.94115351e-01,\n",
       "        -8.63626456e-01,  2.92588796e-01,  1.29431739e+00,\n",
       "         1.39025877e+00],\n",
       "       [-4.71553148e-01, -5.37313794e-02,  9.52027377e-01,\n",
       "        -1.10482475e+00,  5.88084599e-01, -8.70640338e-01,\n",
       "        -6.58532694e-01,  6.45002685e-01,  7.27009186e-02,\n",
       "        -1.03333333e+00],\n",
       "       [-3.90537026e-01, -6.71273109e-02,  5.48946798e-01,\n",
       "         4.76826590e-01,  1.09328592e+00,  1.73478895e+00,\n",
       "        -7.82373376e-01,  1.86131205e+00,  9.99083103e-02,\n",
       "         2.04060237e-01],\n",
       "       [-1.76447932e-01,  6.22568765e-02,  6.85803616e-01,\n",
       "         3.62556636e-02,  5.65652538e-01, -3.58940795e-02,\n",
       "         6.70367586e-01, -1.10015727e+00,  4.22899737e-01,\n",
       "        -6.50455562e-01],\n",
       "       [-1.41676231e+00, -9.63813817e-01,  7.74992001e-01,\n",
       "        -1.54636174e+00, -9.44148772e-01, -2.34199636e-01,\n",
       "        -1.39408609e+00, -2.42470137e+00,  1.09778460e-01,\n",
       "         1.69871046e+00],\n",
       "       [-9.89818760e-01,  7.96186304e-01,  3.41358296e-01,\n",
       "         6.21560465e-01, -1.84994628e+00,  4.24328211e-01,\n",
       "         5.20877848e-02, -6.84723998e-01, -1.00457932e+00,\n",
       "        -5.22935042e-01],\n",
       "       [ 2.36272356e+00,  1.22731827e+00, -1.28834034e-02,\n",
       "        -2.49407410e-01,  5.64850335e-01,  7.22525798e-01,\n",
       "         1.15845291e+00, -6.29169024e-01,  8.43100725e-01,\n",
       "        -1.18192082e+00],\n",
       "       [-9.56706837e-01, -1.41811818e-01, -8.87581788e-01,\n",
       "        -1.35212966e+00,  8.88801209e-01,  3.16592583e-01,\n",
       "         1.22144532e+00, -1.06963243e+00, -2.89595445e-01,\n",
       "         2.39732303e-01],\n",
       "       [-9.60976448e-01,  6.29961717e-01, -2.54042225e-01,\n",
       "         6.57303553e-01,  2.94385687e-01,  9.61985778e-01,\n",
       "        -1.55492970e+00,  1.24181360e+00,  9.61441891e-01,\n",
       "        -1.21366705e+00],\n",
       "       [-1.18138777e+00,  1.36573609e+00, -1.21217228e-01,\n",
       "         1.26655772e+00,  1.77817240e-02,  3.67592614e-01,\n",
       "        -4.91615740e-01, -4.75051357e-01,  2.66324147e-01,\n",
       "         4.90175117e-01],\n",
       "       [-3.31581785e-01,  7.26158235e-01, -1.56531730e+00,\n",
       "        -8.44506425e-02,  1.11441390e+00, -7.56478453e-02,\n",
       "         7.41665515e-01, -5.54396390e-01,  6.90041136e-02,\n",
       "        -8.12405007e-01],\n",
       "       [-4.78838364e-01,  5.56599626e-02, -4.60018745e-01,\n",
       "         3.17495940e-02, -1.20336217e+00, -1.87420638e+00,\n",
       "        -1.37448671e+00,  1.71167232e-01, -1.70952479e+00,\n",
       "         9.54796483e-01],\n",
       "       [ 9.32196879e-01, -6.42419615e-01,  2.55340146e-01,\n",
       "         4.25648648e-01, -7.86834857e-02,  2.00139799e+00,\n",
       "        -1.61230810e+00,  2.29643572e+00,  6.72354019e-01,\n",
       "        -1.07659761e+00],\n",
       "       [-1.62212494e+00,  4.74616282e-01,  2.18382134e+00,\n",
       "        -6.30871017e-01, -5.00893510e-01,  2.16419153e+00,\n",
       "         2.34208632e-01,  9.32770597e-02,  1.00135496e+00,\n",
       "        -1.74738181e-01],\n",
       "       [ 9.73381244e-01, -2.91845757e-01, -1.23014717e+00,\n",
       "        -1.55056172e+00, -7.92651030e-02,  5.98826080e-01,\n",
       "         1.08666461e+00, -1.09773573e-01, -4.87554959e-01,\n",
       "         6.90791024e-01],\n",
       "       [ 4.61474290e-01, -2.85407536e-01, -6.98184964e-01,\n",
       "         6.02832043e-01,  1.32724956e+00, -1.13117793e+00,\n",
       "         2.95582202e-02,  2.89247567e+00,  3.19331650e-02,\n",
       "        -1.31918905e+00],\n",
       "       [-1.40570741e-01,  7.22816534e-01, -7.44489844e-01,\n",
       "        -5.03758690e-01,  5.21757182e-01, -1.97134887e+00,\n",
       "         1.57135291e+00, -4.04700941e-01, -7.39837418e-01,\n",
       "        -1.57018503e-01],\n",
       "       [-1.96362304e-01, -3.94798998e-01,  4.67335182e-01,\n",
       "         5.00398238e-01,  1.10019720e-01,  2.39606976e+00,\n",
       "         5.31487077e-01, -5.44386039e-01, -1.37284961e+00,\n",
       "         2.15212727e+00],\n",
       "       [-6.05292839e-01, -4.64950833e-01, -1.12058936e+00,\n",
       "        -1.50690650e-01,  4.08612539e-01,  2.12197433e+00,\n",
       "        -2.39410139e-01,  1.51965501e-01,  1.53909093e+00,\n",
       "         8.28525928e-02],\n",
       "       [ 2.05482539e-01, -5.33715610e-01, -1.20984261e+00,\n",
       "         2.13461859e+00,  7.16083602e-01, -2.62330370e+00,\n",
       "         7.64469688e-01, -8.89212750e-01, -9.37320668e-01,\n",
       "        -8.80146125e-02],\n",
       "       [-1.08231994e-01,  1.39839116e+00, -1.35312816e+00,\n",
       "         8.10631663e-01, -6.38405238e-01,  2.86771060e-01,\n",
       "        -1.24474415e+00, -2.05725648e+00,  8.04751409e-01,\n",
       "         5.39102660e-01],\n",
       "       [ 1.16008155e-01,  5.25067124e-01,  7.85448542e-01,\n",
       "         8.04116694e-01, -6.02847312e-01, -2.06497916e+00,\n",
       "        -4.35129916e-01,  1.79309122e+00,  9.90343291e-01,\n",
       "        -2.14651185e-01],\n",
       "       [ 2.16095564e+00,  1.76059330e-01,  1.58251625e+00,\n",
       "         1.25881891e+00, -6.06347342e-01, -5.34441280e-01,\n",
       "         1.62483765e+00,  3.07642948e-01, -8.64066782e-01,\n",
       "         6.14330794e-01],\n",
       "       [ 1.67765949e+00, -1.01576771e+00,  1.54635658e+00,\n",
       "        -4.20869927e-01, -3.21898067e+00, -1.22670998e+00,\n",
       "         3.65826245e-01,  1.11059048e+00, -1.13872419e+00,\n",
       "        -3.19387038e-01],\n",
       "       [-2.37489249e-01, -8.22850939e-01, -5.98182955e-01,\n",
       "         6.50775599e-01, -1.05936276e-02, -2.61089309e-01,\n",
       "         6.31134487e-01,  4.40118471e-01,  1.64337849e+00,\n",
       "         1.42629914e+00],\n",
       "       [-5.49463681e-01,  1.25217101e+00,  1.97125350e+00,\n",
       "        -6.94463421e-01,  1.55212901e+00,  1.07963019e+00,\n",
       "        -4.47579836e-02,  3.14523853e-01,  1.05959057e+00,\n",
       "         2.80505006e-01],\n",
       "       [ 1.17305435e+00,  5.40951946e-01, -1.13919539e+00,\n",
       "        -8.50874442e-01, -1.00171038e+00,  1.71667784e+00,\n",
       "        -6.89749161e-01,  3.96260662e-01, -2.68184793e-01,\n",
       "         7.65765159e-01],\n",
       "       [-9.98265176e-01, -2.12162037e-01,  2.38327686e-01,\n",
       "        -1.20232987e+00,  5.08959148e-01, -1.61723388e-01,\n",
       "        -8.24349877e-02, -1.66025011e+00,  1.74295496e+00,\n",
       "        -2.87658740e-01],\n",
       "       [ 3.15886770e-01, -6.41199252e-01, -3.23056522e-01,\n",
       "         8.88471974e-01, -2.58816419e-02, -4.95748424e-01,\n",
       "        -1.71307206e+00, -6.73354982e-01, -7.93485305e-01,\n",
       "         8.55011648e-01],\n",
       "       [ 1.31932223e-01, -4.65125155e-01,  1.66915750e+00,\n",
       "        -1.78594607e+00,  2.44281464e+00,  1.00318957e+00,\n",
       "         6.04181117e-01,  1.43986030e+00,  7.26787652e-01,\n",
       "        -1.31541606e+00],\n",
       "       [ 6.75433565e-01, -1.87441395e+00, -8.65344611e-01,\n",
       "        -1.62050214e+00,  4.15667355e-01,  1.10722609e+00,\n",
       "         3.70084778e-01,  2.05803623e+00,  1.08760791e+00,\n",
       "         1.79187053e+00],\n",
       "       [-5.54670164e-01, -2.64226848e-01, -8.23318814e-01,\n",
       "        -1.21185778e-01, -9.87046467e-01,  7.09764793e-01,\n",
       "         5.76388995e-01,  1.45459309e+00, -2.02617910e+00,\n",
       "         1.14236778e-01],\n",
       "       [-2.77861149e-01, -2.37297520e-01, -3.14591186e-01,\n",
       "        -1.52815851e+00, -4.10305258e+00,  4.24431111e-01,\n",
       "         1.53789944e+00, -1.29784574e+00,  8.79097780e-01,\n",
       "         1.49750591e+00],\n",
       "       [-4.69797679e-01, -1.24281789e+00,  8.36536237e-01,\n",
       "        -7.84710375e-01,  1.47463791e-01,  7.79968875e-01,\n",
       "        -6.60046442e-01,  7.30839840e-01,  1.37945703e+00,\n",
       "         1.41970445e+00],\n",
       "       [-1.32234982e+00,  4.95034111e-01, -8.12272780e-01,\n",
       "        -1.12934519e+00, -3.59358275e-01, -1.40065397e-01,\n",
       "         1.48141784e-01,  7.11278561e-01, -1.29877161e-02,\n",
       "         1.19479074e+00],\n",
       "       [ 6.41624181e-01, -8.77303806e-02, -2.55644867e-01,\n",
       "        -2.33629936e-01, -1.67945012e+00,  5.45782576e-01,\n",
       "        -2.03660892e-01, -5.63219818e-01, -8.44743805e-02,\n",
       "         1.38807014e+00],\n",
       "       [-9.37775998e-01, -6.34595087e-01, -6.63041283e-02,\n",
       "         4.75500842e-01,  1.40390527e+00,  2.92465846e-02,\n",
       "        -7.39483876e-01,  1.26409338e+00,  2.43023024e-01,\n",
       "         5.81456439e-01],\n",
       "       [ 1.47391618e-01, -1.40165285e+00, -5.94467948e-01,\n",
       "         4.25879729e-01, -2.04146927e-01, -1.01377656e+00,\n",
       "         1.49482001e+00, -3.22067562e-01, -4.05557890e-01,\n",
       "         1.12953650e+00],\n",
       "       [ 2.96210767e-01,  1.83512671e+00,  7.27166413e-01,\n",
       "        -5.49105103e-01, -7.47373524e-01,  4.27297394e-01,\n",
       "         4.75440537e-02,  7.69916233e-01,  9.00421940e-01,\n",
       "        -2.66207000e+00],\n",
       "       [-1.25860180e+00,  6.08884372e-01, -1.98784481e+00,\n",
       "         2.97872287e-01,  5.35384843e-01, -1.36799257e-01,\n",
       "         1.20122184e+00, -4.27116427e-02, -6.46138804e-01,\n",
       "         1.90908869e+00],\n",
       "       [-5.78948831e-01, -1.30461897e+00, -4.36956685e-01,\n",
       "        -2.76126068e-01, -9.84278889e-02, -8.13640684e-01,\n",
       "         1.77580840e-01, -4.82796597e-01, -2.07486681e+00,\n",
       "        -4.57618997e-01],\n",
       "       [-1.27652411e+00, -1.83273348e-01,  2.51557169e-01,\n",
       "         2.05940095e+00,  1.18367037e+00,  9.94350056e-01,\n",
       "        -4.45434403e-01,  4.77332332e-01,  1.99419682e+00,\n",
       "         9.07063779e-01],\n",
       "       [-3.08643445e+00, -5.06647990e-01, -1.34100918e+00,\n",
       "         2.72766256e-01, -1.27593798e+00, -7.97403263e-01,\n",
       "        -4.21509454e-01, -3.29891212e-01, -2.53304677e-01,\n",
       "        -6.28996102e-01],\n",
       "       [-4.78023121e-01,  6.99976664e-01, -1.11547422e+00,\n",
       "         2.84319604e+00, -5.60501778e-01,  2.80497449e+00,\n",
       "         1.53077476e+00, -2.86989629e-01,  1.64847906e+00,\n",
       "         9.96950363e-01]])"
      ]
     },
     "execution_count": 149,
     "metadata": {},
     "output_type": "execute_result"
    }
   ],
   "source": [
    "np.random.normal(0,1,(100,10))"
   ]
  },
  {
   "cell_type": "code",
   "execution_count": 150,
   "metadata": {},
   "outputs": [
    {
     "data": {
      "text/plain": [
       "array([[ 4,  3,  2,  4, 10,  1, 10, 10,  5,  4],\n",
       "       [ 9,  1,  1,  1,  9,  9,  7,  1,  1,  6],\n",
       "       [ 5,  9,  2,  4,  3, 10,  1,  9,  9,  1],\n",
       "       [ 8,  3,  2, 10,  1,  1,  4,  8,  6,  2],\n",
       "       [ 8,  2,  6,  6,  9,  2,  5,  8,  2,  3],\n",
       "       [ 8,  3,  7,  7,  9,  6,  3,  1,  3, 10],\n",
       "       [ 7,  9,  5,  9,  1,  6,  7,  4,  2,  5],\n",
       "       [ 3,  8,  2,  3,  4,  7,  6,  2,  9,  9],\n",
       "       [ 5,  7,  8,  2,  4,  2,  1,  1,  4,  9],\n",
       "       [ 5,  1,  3,  3,  5,  8,  5,  7,  3,  3],\n",
       "       [10,  1,  7,  2, 10,  8,  2,  9,  2,  2],\n",
       "       [ 1, 10,  3,  6,  5, 10,  1,  6,  8,  1],\n",
       "       [ 5,  2,  6,  7, 10,  7,  9,  1,  8,  3],\n",
       "       [ 9,  3, 10,  2, 10,  6,  5,  6,  8,  9],\n",
       "       [ 3,  5,  1,  4,  8,  1,  5,  1, 10,  5],\n",
       "       [ 3,  1,  1,  4,  9,  5,  2,  6,  5,  4],\n",
       "       [ 1,  5,  4,  6,  9,  4,  3,  4,  9,  2],\n",
       "       [10,  2,  3,  7,  5,  7,  4, 10,  3,  4],\n",
       "       [10,  5,  1,  4,  8,  2,  3,  1,  3,  4],\n",
       "       [ 8, 10,  3,  9,  8,  5,  9,  7,  4,  7],\n",
       "       [ 2,  9,  3,  7,  7,  7,  2,  7,  4,  2],\n",
       "       [10,  5, 10,  2,  4,  5,  1,  6,  1,  1],\n",
       "       [ 6,  7,  7,  7,  7,  8,  7,  3,  1, 10],\n",
       "       [10,  5,  3,  2,  9,  3,  9,  6,  8,  3],\n",
       "       [ 5,  1,  6,  8, 10,  8,  3,  6,  1,  5],\n",
       "       [ 9,  1,  3,  4,  3,  5,  7,  4,  6,  1],\n",
       "       [ 1,  5,  8,  2,  2,  1, 10,  5, 10, 10],\n",
       "       [ 3,  4,  2,  6,  2,  4, 10,  5,  4,  1],\n",
       "       [ 4,  1,  6,  1,  1,  1,  1, 10,  9,  3],\n",
       "       [ 2,  7,  7,  8,  8,  1,  7,  5,  3,  5],\n",
       "       [ 8,  6,  1, 10,  8,  7,  5,  4,  6,  5],\n",
       "       [ 1,  3,  6,  8,  5,  2,  3, 10,  4,  2],\n",
       "       [10,  5,  9,  1,  7,  2, 10,  6,  9,  1],\n",
       "       [ 6,  3,  9,  4, 10,  7,  3,  7,  8,  2],\n",
       "       [ 9,  2,  1,  7,  5,  9,  6,  4,  6, 10],\n",
       "       [ 5, 10,  2,  1,  7,  3,  5,  8,  2, 10],\n",
       "       [ 3,  6,  2, 10,  3,  3,  3,  7,  6,  4],\n",
       "       [ 2,  1,  7,  1,  1,  2,  7,  8,  8,  3],\n",
       "       [ 1,  6,  5,  1,  7,  2,  4,  4,  5, 10],\n",
       "       [ 6,  3,  1,  7,  9,  5,  7,  6,  5,  8],\n",
       "       [ 1,  8,  8,  4,  5,  5,  5,  8,  6,  8],\n",
       "       [ 8,  8,  7,  2,  8,  4,  9,  3,  1,  3],\n",
       "       [ 3,  3,  4,  6,  6,  1, 10,  8,  8, 10],\n",
       "       [10,  4,  7,  2,  9,  9, 10,  5,  7,  6],\n",
       "       [ 7,  8,  2,  5,  4,  5,  8,  5,  9,  6],\n",
       "       [ 5,  9,  9,  9,  7,  6,  4,  2,  7,  1],\n",
       "       [ 5, 10,  2,  1,  1,  2,  5,  6,  1, 10],\n",
       "       [ 9,  1,  1,  7,  8,  2,  4,  4,  6,  8],\n",
       "       [ 3,  2, 10,  3, 10,  9,  2,  1,  4,  6],\n",
       "       [ 7,  7,  2,  8,  2,  8,  3,  9,  4,  3],\n",
       "       [ 8,  4,  1,  9,  1,  6,  9,  5, 10,  1],\n",
       "       [ 9,  3,  1,  1,  8,  3,  4,  1,  1,  8],\n",
       "       [ 9,  1,  6,  2,  3,  8,  9,  2,  5,  9],\n",
       "       [ 6, 10,  6,  1,  2,  5,  1,  4,  8,  4],\n",
       "       [ 8,  3,  9,  2,  1,  4,  1,  5,  4, 10],\n",
       "       [ 8,  7,  1,  4,  5,  9,  1,  1,  4,  4],\n",
       "       [ 7,  5, 10,  6,  8,  6,  2,  4,  8,  8],\n",
       "       [ 5,  5,  6,  5,  1,  8,  3,  2,  1, 10],\n",
       "       [ 4, 10,  4,  6,  5,  5,  6,  6, 10,  3],\n",
       "       [ 6,  9,  6, 10,  7,  3,  5,  9,  6,  2],\n",
       "       [ 8,  3,  8,  3, 10,  5,  4,  6, 10,  8],\n",
       "       [ 2, 10,  8,  2,  1,  2,  3,  4,  3,  1],\n",
       "       [ 4,  7,  4,  9,  8,  4,  4,  1,  9,  6],\n",
       "       [ 8,  1,  8,  8,  8,  2,  3,  8,  7,  5],\n",
       "       [ 9,  8,  1,  2,  9,  7,  7,  6,  5,  6],\n",
       "       [ 7,  6,  6,  9,  6,  6,  5,  4,  5,  4],\n",
       "       [ 8,  7,  9,  2,  4,  1,  1,  6,  2,  7],\n",
       "       [ 6,  1,  1, 10,  5,  7,  6,  6,  4,  8],\n",
       "       [ 1,  4,  4,  8,  6,  4,  3,  4,  7,  3],\n",
       "       [ 3,  8,  6,  7,  7,  5,  5,  9, 10, 10],\n",
       "       [ 9,  5, 10,  3,  3,  3,  3,  5,  4,  7],\n",
       "       [ 3,  2,  4,  7,  2,  1,  5,  4, 10,  9],\n",
       "       [ 2, 10,  4,  9,  9,  1,  1,  7, 10,  7],\n",
       "       [10,  1,  2,  9,  6, 10,  6,  8,  4,  9],\n",
       "       [ 6,  3,  3,  6,  7, 10,  3,  6, 10,  5],\n",
       "       [ 3,  4,  6,  6,  2,  3,  7,  2,  8,  7],\n",
       "       [10,  5,  7,  3,  2,  9,  9,  1,  6,  8],\n",
       "       [ 9,  3,  6,  1,  7,  1,  6,  8,  6,  5],\n",
       "       [ 8, 10,  5, 10,  3,  5,  4,  1,  4,  2],\n",
       "       [ 2,  7,  4,  5,  6,  1,  7,  5,  8,  6],\n",
       "       [ 1,  7,  6,  6,  4,  4, 10,  6,  4,  2],\n",
       "       [ 4, 10,  6, 10,  5,  4,  9,  2,  3, 10],\n",
       "       [ 7,  2,  8,  9,  6,  9,  5,  7,  3,  4],\n",
       "       [ 2,  5,  6,  2, 10, 10, 10,  8,  7, 10],\n",
       "       [ 5,  6,  1,  7,  6,  5,  8,  2,  4,  4],\n",
       "       [ 8,  3,  8, 10,  2,  2,  6, 10,  3,  3],\n",
       "       [ 6,  3,  9,  8,  7,  2,  3,  2,  8,  5],\n",
       "       [ 2,  7,  9,  6, 10,  6,  4,  4,  5,  5],\n",
       "       [ 7,  2,  6,  4,  1,  4,  6,  4,  9,  1],\n",
       "       [ 7,  3, 10,  2,  4,  1,  7,  1,  6,  9],\n",
       "       [ 7, 10,  3,  5,  6,  3,  9, 10,  8,  8],\n",
       "       [ 6, 10, 10,  8,  9,  2,  1,  9,  1,  7],\n",
       "       [ 2,  1,  1,  2, 10,  4,  3,  4,  8,  8],\n",
       "       [ 2,  3, 10,  3,  8,  5,  8,  7,  2,  1],\n",
       "       [ 5,  4, 10,  1,  1,  4,  6,  2,  7,  9],\n",
       "       [ 6,  9,  6,  4,  3,  6,  4,  8,  7,  7],\n",
       "       [ 8, 10, 10,  3,  2,  1,  2,  8,  7,  8],\n",
       "       [ 6,  9,  9,  2,  1,  2,  9,  5,  7,  6],\n",
       "       [ 2,  6,  1,  7,  4,  2,  4,  3,  7,  5],\n",
       "       [ 3,  3,  4,  2,  6,  8,  6,  8,  5,  1]])"
      ]
     },
     "execution_count": 150,
     "metadata": {},
     "output_type": "execute_result"
    }
   ],
   "source": [
    "np.random.randint(1,11,(100,10))"
   ]
  },
  {
   "cell_type": "code",
   "execution_count": 152,
   "metadata": {},
   "outputs": [],
   "source": [
    "matriz_normal=np.random.normal(0,1,(100,10))"
   ]
  },
  {
   "cell_type": "code",
   "execution_count": 153,
   "metadata": {},
   "outputs": [
    {
     "data": {
      "text/plain": [
       "0.006996937032346945"
      ]
     },
     "execution_count": 153,
     "metadata": {},
     "output_type": "execute_result"
    }
   ],
   "source": [
    "matriz_normal.mean()"
   ]
  },
  {
   "cell_type": "code",
   "execution_count": 154,
   "metadata": {},
   "outputs": [
    {
     "data": {
      "text/plain": [
       "6.9969370323469455"
      ]
     },
     "execution_count": 154,
     "metadata": {},
     "output_type": "execute_result"
    }
   ],
   "source": [
    "matriz_normal.sum()"
   ]
  },
  {
   "cell_type": "code",
   "execution_count": 155,
   "metadata": {},
   "outputs": [
    {
     "data": {
      "text/plain": [
       "1.0139598802942973"
      ]
     },
     "execution_count": 155,
     "metadata": {},
     "output_type": "execute_result"
    }
   ],
   "source": [
    "matriz_normal.std()"
   ]
  },
  {
   "cell_type": "code",
   "execution_count": 156,
   "metadata": {},
   "outputs": [
    {
     "data": {
      "text/plain": [
       "0.006996937032346945"
      ]
     },
     "execution_count": 156,
     "metadata": {},
     "output_type": "execute_result"
    }
   ],
   "source": [
    "np.mean(matriz_normal)"
   ]
  },
  {
   "cell_type": "code",
   "execution_count": 157,
   "metadata": {},
   "outputs": [
    {
     "data": {
      "text/plain": [
       "2.0"
      ]
     },
     "execution_count": 157,
     "metadata": {},
     "output_type": "execute_result"
    }
   ],
   "source": [
    "np.mean([1,2,3])"
   ]
  },
  {
   "cell_type": "code",
   "execution_count": 158,
   "metadata": {},
   "outputs": [
    {
     "data": {
      "text/plain": [
       "array([ 0.03417948, -0.13105921, -0.0010793 ,  0.03103256,  0.04586543,\n",
       "       -0.00624217,  0.10515468, -0.00916756, -0.03795544,  0.0392409 ])"
      ]
     },
     "execution_count": 158,
     "metadata": {},
     "output_type": "execute_result"
    }
   ],
   "source": [
    "np.mean(matriz_normal,axis=0)"
   ]
  },
  {
   "cell_type": "code",
   "execution_count": 160,
   "metadata": {},
   "outputs": [
    {
     "data": {
      "text/plain": [
       "array([-0.5775488 ,  0.15673431,  0.61262432,  0.06076419, -0.57770003,\n",
       "       -0.16160657, -0.37847028,  0.64062491,  0.12722781,  0.2481567 ,\n",
       "       -0.09508191,  0.08533735, -0.12408129, -0.33297814,  0.11105831,\n",
       "        0.37944489,  0.24184106,  0.09568066, -0.07300331, -0.48778463,\n",
       "        0.12405942, -0.3089323 ,  0.15599506, -0.07479045, -0.4870033 ,\n",
       "        0.15846453,  0.56451102, -0.53320071,  0.19457632, -0.32196017,\n",
       "        0.09351269,  0.13793397,  0.08180371,  0.01520232, -0.02334905,\n",
       "       -0.23955231,  0.15232971, -0.01132528, -0.01704968, -0.20417264,\n",
       "       -0.09762541,  0.65824369,  0.56656774,  0.34253169,  0.06783736,\n",
       "        0.03421666, -0.08057995,  0.16817822,  0.4475933 , -0.73130245,\n",
       "        0.26431435,  0.71260247, -0.18256583, -0.3500355 , -0.19182757,\n",
       "       -0.3378891 ,  0.00482303, -0.07332657, -0.28466949, -0.27885495,\n",
       "        0.00081596,  0.32294351,  0.26013224, -0.22981946, -0.57146454,\n",
       "        0.36326007,  0.08197896,  0.19678854,  0.35240476,  0.02195272,\n",
       "        0.26940502, -0.04629415,  0.23514735, -0.14129135, -0.30587385,\n",
       "       -0.20595535, -0.19943219,  0.1589212 , -0.40148335, -0.27057146,\n",
       "        0.19598859, -0.30871608,  0.50477132, -0.01689315, -0.0373739 ,\n",
       "        0.28146538, -0.70585967,  0.2052237 , -0.31690641, -0.30848124,\n",
       "       -0.27115962,  0.41538415, -0.23741792,  0.23689386, -0.07439714,\n",
       "       -0.41560737,  0.44290325,  0.54369078,  0.44048707,  0.16760936])"
      ]
     },
     "execution_count": 160,
     "metadata": {},
     "output_type": "execute_result"
    }
   ],
   "source": [
    "np.mean(matriz_normal,axis=1)"
   ]
  },
  {
   "cell_type": "code",
   "execution_count": 163,
   "metadata": {},
   "outputs": [
    {
     "data": {
      "text/plain": [
       "array([  3.41794781, -13.10592116,  -0.10793042,   3.10325646,\n",
       "         4.58654325,  -0.62421709,  10.51546809,  -0.91675587,\n",
       "        -3.79554421,   3.92409016])"
      ]
     },
     "execution_count": 163,
     "metadata": {},
     "output_type": "execute_result"
    }
   ],
   "source": [
    "np.sum(matriz_normal,axis=0)"
   ]
  },
  {
   "cell_type": "code",
   "execution_count": 162,
   "metadata": {},
   "outputs": [
    {
     "data": {
      "text/plain": [
       "array([  3.41794781, -13.10592116,  -0.10793042,   3.10325646,\n",
       "         4.58654325,  -0.62421709,  10.51546809,  -0.91675587,\n",
       "        -3.79554421,   3.92409016])"
      ]
     },
     "execution_count": 162,
     "metadata": {},
     "output_type": "execute_result"
    }
   ],
   "source": [
    "sum(matriz_normal)"
   ]
  },
  {
   "cell_type": "code",
   "execution_count": 164,
   "metadata": {},
   "outputs": [
    {
     "data": {
      "text/plain": [
       "2.0794415416798357"
      ]
     },
     "execution_count": 164,
     "metadata": {},
     "output_type": "execute_result"
    }
   ],
   "source": [
    "np.log(8)"
   ]
  },
  {
   "cell_type": "code",
   "execution_count": null,
   "metadata": {},
   "outputs": [],
   "source": []
  }
 ],
 "metadata": {
  "kernelspec": {
   "display_name": "Python 3",
   "language": "python",
   "name": "python3"
  },
  "language_info": {
   "codemirror_mode": {
    "name": "ipython",
    "version": 3
   },
   "file_extension": ".py",
   "mimetype": "text/x-python",
   "name": "python",
   "nbconvert_exporter": "python",
   "pygments_lexer": "ipython3",
   "version": "3.7.7"
  }
 },
 "nbformat": 4,
 "nbformat_minor": 4
}
